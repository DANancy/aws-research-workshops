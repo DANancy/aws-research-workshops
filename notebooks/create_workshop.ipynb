{
 "cells": [
  {
   "cell_type": "markdown",
   "metadata": {},
   "source": [
    "## Create Workshop Notebooks and Users"
   ]
  },
  {
   "cell_type": "code",
   "execution_count": null,
   "metadata": {},
   "outputs": [],
   "source": [
    "import boto3\n",
    "import botocore\n",
    "import json\n",
    "import time\n",
    "import os\n",
    "import base64\n",
    "import docker\n",
    "import pandas as pd\n",
    "\n",
    "import project_path # path to helper methods\n",
    "from lib import workshop\n",
    "from botocore.exceptions import ClientError\n",
    "\n",
    "cfn = boto3.client('cloudformation')\n",
    "iam = boto3.client('iam')\n",
    "\n",
    "session = boto3.session.Session()\n",
    "region = session.region_name\n",
    "account_id = boto3.client('sts').get_caller_identity().get('Account')"
   ]
  },
  {
   "cell_type": "markdown",
   "metadata": {},
   "source": [
    "### [Create S3 Bucket](https://docs.aws.amazon.com/AmazonS3/latest/gsg/CreatingABucket.html)\n",
    "\n",
    "We will create an S3 bucket that will be used throughout the workshop for storing our data.\n",
    "\n",
    "[s3.create_bucket](https://boto3.amazonaws.com/v1/documentation/api/latest/reference/services/s3.html#S3.Client.create_bucket) boto3 documentation"
   ]
  },
  {
   "cell_type": "code",
   "execution_count": null,
   "metadata": {},
   "outputs": [],
   "source": [
    "bucket = workshop.create_bucket_name('workshop-')\n",
    "session.resource('s3').create_bucket(Bucket=bucket, CreateBucketConfiguration={'LocationConstraint': region})\n",
    "print(bucket)"
   ]
  },
  {
   "cell_type": "markdown",
   "metadata": {},
   "source": [
    "### Create the IAM Users and SageMaker Notebooks\n",
    "\n",
    "We will use CloudFormation to create the workshop users and SageMaker Notebooks to run the workshop."
   ]
  },
  {
   "cell_type": "code",
   "execution_count": null,
   "metadata": {},
   "outputs": [],
   "source": [
    "!cat ../research-env.yml"
   ]
  },
  {
   "cell_type": "code",
   "execution_count": null,
   "metadata": {},
   "outputs": [],
   "source": [
    "research_file = 'research-env.yml'\n",
    "session.resource('s3').Bucket(bucket).Object(os.path.join('cfn', research_file)).upload_file( '../' + research_file)"
   ]
  },
  {
   "cell_type": "markdown",
   "metadata": {},
   "source": [
    "### Execute CloudFormation Stack to generate Users and Environment\n",
    "\n",
    "Creates a stack as specified in the template. After the call completes successfully, the stack creation starts. You can check the status of the stack via the DescribeStacks API.\n",
    "\n",
    "[cfn.create_stack](https://boto3.amazonaws.com/v1/documentation/api/latest/reference/services/cloudformation.html#CloudFormation.Client.create_stack)"
   ]
  },
  {
   "cell_type": "code",
   "execution_count": null,
   "metadata": {},
   "outputs": [],
   "source": [
    "user_count = 2\n",
    "cfn_template = 'https://s3-{0}.amazonaws.com/{1}/cfn/{2}'.format(region, bucket, research_file)\n",
    "print(cfn_template)\n",
    "\n",
    "for x in range(user_count):\n",
    "    user_stack_name = 'Workshop-' + str(x + 1)\n",
    "    response = cfn.create_stack(\n",
    "        StackName=user_stack_name,\n",
    "        TemplateURL=cfn_template,\n",
    "        Capabilities = [\"CAPABILITY_NAMED_IAM\"],\n",
    "        Parameters=[\n",
    "            {\n",
    "                'ParameterKey': 'NotebookInstanceType',\n",
    "                'ParameterValue': 'ml.t2.medium'\n",
    "            },\n",
    "            {\n",
    "                'ParameterKey': 'UserName',\n",
    "                'ParameterValue': 'WorkshopUser' + str(x + 1)\n",
    "            },\n",
    "            {\n",
    "                'ParameterKey': 'IAMUserPassword',\n",
    "                'ParameterValue': 'WorkshopUser#' + str(x + 1)\n",
    "            }            \n",
    "            \n",
    "        ]\n",
    "    )\n",
    "\n",
    "    print(response)"
   ]
  },
  {
   "cell_type": "markdown",
   "metadata": {},
   "source": [
    "## Clean Up"
   ]
  },
  {
   "cell_type": "code",
   "execution_count": null,
   "metadata": {},
   "outputs": [],
   "source": [
    "for x in range(user_count):\n",
    "    user_stack_name = 'Workshop-' + str(x + 1)\n",
    "    response = cfn.delete_stack(StackName=user_stack_name)"
   ]
  },
  {
   "cell_type": "code",
   "execution_count": null,
   "metadata": {},
   "outputs": [],
   "source": [
    "!aws s3 rb s3://$bucket --force  "
   ]
  }
 ],
 "metadata": {
  "kernelspec": {
   "display_name": "conda_python3",
   "language": "python",
   "name": "conda_python3"
  },
  "language_info": {
   "codemirror_mode": {
    "name": "ipython",
    "version": 3
   },
   "file_extension": ".py",
   "mimetype": "text/x-python",
   "name": "python",
   "nbconvert_exporter": "python",
   "pygments_lexer": "ipython3",
   "version": "3.6.5"
  }
 },
 "nbformat": 4,
 "nbformat_minor": 2
}
