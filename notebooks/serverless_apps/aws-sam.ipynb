{
 "cells": [
  {
   "cell_type": "markdown",
   "metadata": {},
   "source": [
    "## Creating the AWS Serverless Application Model (SAM) application\n",
    "\n",
    "### [Verify pre-requisites for AWS SAM](https://docs.aws.amazon.com/serverless-application-model/latest/developerguide/serverless-sam-cli-install.html#serverless-sam-cli-install-prerequisites)\n",
    "SAM requires python 2.7 or 3.6 and pip to be installed to continue."
   ]
  },
  {
   "cell_type": "code",
   "execution_count": 19,
   "metadata": {},
   "outputs": [],
   "source": [
    "import boto3\n",
    "import os\n",
    "import sagemaker\n",
    "from sagemaker import get_execution_role\n",
    "import project_path # path to helper methods\n",
    "from lib import workshop\n",
    "\n",
    "role = get_execution_role()\n",
    "\n",
    "s3 = boto3.resource('s3')\n",
    "cfn = boto3.client('cloudformation')\n",
    "\n",
    "# use the region-specific sample data bucket\n",
    "region = boto3.Session().region_name\n",
    "stack_name = 'serverless-hello'"
   ]
  },
  {
   "cell_type": "markdown",
   "metadata": {},
   "source": [
    "## [Create S3 Bucket](https://docs.aws.amazon.com/AmazonS3/latest/gsg/CreatingABucket.html)\n",
    "\n",
    "We will create an S3 bucket that will be used throughout the workshop for storing our data.\n",
    "\n",
    "[s3.create_bucket](https://boto3.amazonaws.com/v1/documentation/api/latest/reference/services/s3.html#S3.Client.create_bucket) boto3 documentation"
   ]
  },
  {
   "cell_type": "code",
   "execution_count": 2,
   "metadata": {},
   "outputs": [
    {
     "name": "stdout",
     "output_type": "stream",
     "text": [
      "sam-f3e546e4-5315-419e-8a95-af352047d118\n"
     ]
    }
   ],
   "source": [
    "bucket = workshop.create_bucket_name('sam-')\n",
    "s3.create_bucket(Bucket=bucket, CreateBucketConfiguration={'LocationConstraint': region})\n",
    "print(bucket)"
   ]
  },
  {
   "cell_type": "markdown",
   "metadata": {},
   "source": [
    "## Verify Python and pip versions\n",
    "\n",
    "Both Python and pip will be installed when using SageMaker managed notebooks."
   ]
  },
  {
   "cell_type": "code",
   "execution_count": 3,
   "metadata": {},
   "outputs": [
    {
     "name": "stdout",
     "output_type": "stream",
     "text": [
      "Python 3.6.5 :: Anaconda custom (64-bit)\n",
      "pip 10.0.1 from /home/ec2-user/anaconda3/envs/python3/lib/python3.6/site-packages/pip (python 3.6)\n"
     ]
    }
   ],
   "source": [
    "!python --version\n",
    "!pip --version"
   ]
  },
  {
   "cell_type": "markdown",
   "metadata": {},
   "source": [
    "### [Installing AWS SAM](https://docs.aws.amazon.com/serverless-application-model/latest/developerguide/serverless-sam-cli-install.html)\n",
    "\n",
    "The primary distribution method for the AWS SAM CLI on Linux, Windows, and macOS is pip, a package manager for Python that provides an easy way to install, upgrade, and remove Python packages and their dependencies.\n",
    "\n",
    "Pre-requistites:\n",
    "* Docker\n",
    "* [AWS Command Line Interface (AWS CLI)](https://docs.aws.amazon.com/cli/latest/userguide/)\n",
    "* (Pip only) Python 2.7 or Python 3.6"
   ]
  },
  {
   "cell_type": "code",
   "execution_count": 4,
   "metadata": {},
   "outputs": [
    {
     "name": "stdout",
     "output_type": "stream",
     "text": [
      "Requirement already satisfied: aws-sam-cli in /home/ec2-user/.local/lib/python3.6/site-packages (0.10.0)\n",
      "Requirement already satisfied: Flask~=1.0.2 in /home/ec2-user/anaconda3/envs/python3/lib/python3.6/site-packages (from aws-sam-cli) (1.0.2)\n",
      "Requirement already satisfied: aws-lambda-builders==0.0.5 in /home/ec2-user/.local/lib/python3.6/site-packages (from aws-sam-cli) (0.0.5)\n",
      "Requirement already satisfied: PyYAML~=3.12 in /home/ec2-user/anaconda3/envs/python3/lib/python3.6/site-packages (from aws-sam-cli) (3.12)\n",
      "Requirement already satisfied: cookiecutter~=1.6.0 in /home/ec2-user/.local/lib/python3.6/site-packages (from aws-sam-cli) (1.6.0)\n",
      "Requirement already satisfied: dateparser~=0.7 in /home/ec2-user/.local/lib/python3.6/site-packages (from aws-sam-cli) (0.7.0)\n",
      "Requirement already satisfied: docker>=3.3.0 in /home/ec2-user/anaconda3/envs/python3/lib/python3.6/site-packages (from aws-sam-cli) (3.6.0)\n",
      "Requirement already satisfied: aws-sam-translator==1.9.0 in /home/ec2-user/.local/lib/python3.6/site-packages (from aws-sam-cli) (1.9.0)\n",
      "Requirement already satisfied: boto3>=1.9.56,~=1.9 in /home/ec2-user/anaconda3/envs/python3/lib/python3.6/site-packages (from aws-sam-cli) (1.9.69)\n",
      "Requirement already satisfied: chevron~=0.12 in /home/ec2-user/.local/lib/python3.6/site-packages (from aws-sam-cli) (0.13.1)\n",
      "Requirement already satisfied: requests==2.20.1 in /home/ec2-user/anaconda3/envs/python3/lib/python3.6/site-packages (from aws-sam-cli) (2.20.1)\n",
      "Requirement already satisfied: click~=6.7 in /home/ec2-user/anaconda3/envs/python3/lib/python3.6/site-packages (from aws-sam-cli) (6.7)\n",
      "Requirement already satisfied: serverlessrepo==0.1.5 in /home/ec2-user/.local/lib/python3.6/site-packages (from aws-sam-cli) (0.1.5)\n",
      "Requirement already satisfied: six~=1.11.0 in /home/ec2-user/anaconda3/envs/python3/lib/python3.6/site-packages (from aws-sam-cli) (1.11.0)\n",
      "Requirement already satisfied: python-dateutil~=2.6 in /home/ec2-user/anaconda3/envs/python3/lib/python3.6/site-packages (from aws-sam-cli) (2.7.3)\n",
      "Requirement already satisfied: itsdangerous>=0.24 in /home/ec2-user/anaconda3/envs/python3/lib/python3.6/site-packages (from Flask~=1.0.2->aws-sam-cli) (0.24)\n",
      "Requirement already satisfied: Werkzeug>=0.14 in /home/ec2-user/anaconda3/envs/python3/lib/python3.6/site-packages (from Flask~=1.0.2->aws-sam-cli) (0.14.1)\n",
      "Requirement already satisfied: Jinja2>=2.10 in /home/ec2-user/anaconda3/envs/python3/lib/python3.6/site-packages (from Flask~=1.0.2->aws-sam-cli) (2.10)\n",
      "Requirement already satisfied: wheel in /home/ec2-user/anaconda3/envs/python3/lib/python3.6/site-packages (from aws-lambda-builders==0.0.5->aws-sam-cli) (0.31.1)\n",
      "Requirement already satisfied: setuptools in /home/ec2-user/anaconda3/envs/python3/lib/python3.6/site-packages (from aws-lambda-builders==0.0.5->aws-sam-cli) (39.1.0)\n",
      "Requirement already satisfied: binaryornot>=0.2.0 in /home/ec2-user/.local/lib/python3.6/site-packages (from cookiecutter~=1.6.0->aws-sam-cli) (0.4.4)\n",
      "Requirement already satisfied: future>=0.15.2 in /home/ec2-user/anaconda3/envs/python3/lib/python3.6/site-packages (from cookiecutter~=1.6.0->aws-sam-cli) (0.17.1)\n",
      "Requirement already satisfied: whichcraft>=0.4.0 in /home/ec2-user/.local/lib/python3.6/site-packages (from cookiecutter~=1.6.0->aws-sam-cli) (0.5.2)\n",
      "Requirement already satisfied: poyo>=0.1.0 in /home/ec2-user/.local/lib/python3.6/site-packages (from cookiecutter~=1.6.0->aws-sam-cli) (0.4.2)\n",
      "Requirement already satisfied: jinja2-time>=0.1.0 in /home/ec2-user/.local/lib/python3.6/site-packages (from cookiecutter~=1.6.0->aws-sam-cli) (0.2.0)\n",
      "Requirement already satisfied: regex in /home/ec2-user/.local/lib/python3.6/site-packages (from dateparser~=0.7->aws-sam-cli) (2018.11.22)\n",
      "Requirement already satisfied: tzlocal in /home/ec2-user/.local/lib/python3.6/site-packages (from dateparser~=0.7->aws-sam-cli) (1.5.1)\n",
      "Requirement already satisfied: pytz in /home/ec2-user/anaconda3/envs/python3/lib/python3.6/site-packages (from dateparser~=0.7->aws-sam-cli) (2018.4)\n",
      "Requirement already satisfied: docker-pycreds>=0.3.0 in /home/ec2-user/anaconda3/envs/python3/lib/python3.6/site-packages (from docker>=3.3.0->aws-sam-cli) (0.4.0)\n",
      "Requirement already satisfied: websocket-client>=0.32.0 in /home/ec2-user/anaconda3/envs/python3/lib/python3.6/site-packages (from docker>=3.3.0->aws-sam-cli) (0.54.0)\n",
      "Requirement already satisfied: jsonschema~=2.6 in /home/ec2-user/anaconda3/envs/python3/lib/python3.6/site-packages (from aws-sam-translator==1.9.0->aws-sam-cli) (2.6.0)\n",
      "Requirement already satisfied: s3transfer<0.2.0,>=0.1.10 in /home/ec2-user/anaconda3/envs/python3/lib/python3.6/site-packages (from boto3>=1.9.56,~=1.9->aws-sam-cli) (0.1.13)\n",
      "Requirement already satisfied: jmespath<1.0.0,>=0.7.1 in /home/ec2-user/anaconda3/envs/python3/lib/python3.6/site-packages (from boto3>=1.9.56,~=1.9->aws-sam-cli) (0.9.3)\n",
      "Requirement already satisfied: botocore<1.13.0,>=1.12.69 in /home/ec2-user/anaconda3/envs/python3/lib/python3.6/site-packages (from boto3>=1.9.56,~=1.9->aws-sam-cli) (1.12.69)\n",
      "Requirement already satisfied: chardet<3.1.0,>=3.0.2 in /home/ec2-user/anaconda3/envs/python3/lib/python3.6/site-packages (from requests==2.20.1->aws-sam-cli) (3.0.4)\n",
      "Requirement already satisfied: urllib3<1.25,>=1.21.1 in /home/ec2-user/anaconda3/envs/python3/lib/python3.6/site-packages (from requests==2.20.1->aws-sam-cli) (1.22)\n",
      "Requirement already satisfied: certifi>=2017.4.17 in /home/ec2-user/anaconda3/envs/python3/lib/python3.6/site-packages (from requests==2.20.1->aws-sam-cli) (2018.8.24)\n",
      "Requirement already satisfied: idna<2.8,>=2.5 in /home/ec2-user/anaconda3/envs/python3/lib/python3.6/site-packages (from requests==2.20.1->aws-sam-cli) (2.6)\n",
      "Requirement already satisfied: MarkupSafe>=0.23 in /home/ec2-user/anaconda3/envs/python3/lib/python3.6/site-packages (from Jinja2>=2.10->Flask~=1.0.2->aws-sam-cli) (1.0)\n",
      "Requirement already satisfied: arrow in /home/ec2-user/.local/lib/python3.6/site-packages (from jinja2-time>=0.1.0->cookiecutter~=1.6.0->aws-sam-cli) (0.13.0)\n",
      "Requirement already satisfied: docutils>=0.10 in /home/ec2-user/anaconda3/envs/python3/lib/python3.6/site-packages (from botocore<1.13.0,>=1.12.69->boto3>=1.9.56,~=1.9->aws-sam-cli) (0.14)\n",
      "\u001b[33mYou are using pip version 10.0.1, however version 18.1 is available.\n",
      "You should consider upgrading via the 'pip install --upgrade pip' command.\u001b[0m\n"
     ]
    }
   ],
   "source": [
    "!pip install aws-sam-cli"
   ]
  },
  {
   "cell_type": "markdown",
   "metadata": {},
   "source": [
    "### Verify the latest version of SAM is installed "
   ]
  },
  {
   "cell_type": "code",
   "execution_count": 6,
   "metadata": {},
   "outputs": [
    {
     "name": "stdout",
     "output_type": "stream",
     "text": [
      "SAM CLI, version 0.10.0\n",
      "[+] Initializing project structure...\n",
      "[SUCCESS] - Read serverless-todo/README.md for further instructions on how to proceed\n",
      "[*] Project initialization is now complete\n"
     ]
    }
   ],
   "source": [
    "%%bash\n",
    "export PATH=$PATH:/home/ec2-user/.local/bin\n",
    "sam --version\n",
    "sam init -r python3.6 -n serverless-todo"
   ]
  },
  {
   "cell_type": "code",
   "execution_count": 7,
   "metadata": {},
   "outputs": [
    {
     "name": "stdout",
     "output_type": "stream",
     "text": [
      "# serverless-todo\r\n",
      "\r\n",
      "This is a sample template for serverless-todo - Below is a brief explanation of what we have generated for you:\r\n",
      "\r\n",
      "```bash\r\n",
      ".\r\n",
      "├── README.md                   <-- This instructions file\r\n",
      "├── hello_world                 <-- Source code for a lambda function\r\n",
      "│   ├── __init__.py\r\n",
      "│   ├── app.py                  <-- Lambda function code\r\n",
      "│   └── requirements.txt        <-- Python dependencies\r\n",
      "├── template.yaml               <-- SAM Template\r\n",
      "└── tests                       <-- Unit tests\r\n",
      "    └── unit\r\n",
      "        ├── __init__.py\r\n",
      "        └── test_handler.py\r\n",
      "```\r\n",
      "\r\n",
      "## Requirements\r\n",
      "\r\n",
      "* AWS CLI already configured with at least PowerUser permission\r\n",
      "* [Python 3 installed](https://www.python.org/downloads/)\r\n",
      "* [Docker installed](https://www.docker.com/community-edition)\r\n",
      "* [Python Virtual Environment](http://docs.python-guide.org/en/latest/dev/virtualenvs/)\r\n",
      "\r\n",
      "## Setup process\r\n",
      "\r\n",
      "### Building the project\r\n",
      "\r\n",
      "[AWS Lambda requires a flat folder](https://docs.aws.amazon.com/lambda/latest/dg/lambda-python-how-to-create-deployment-package.html) with the application as well as its dependencies. When you make changes to your source code or dependency manifest,\r\n",
      "run the following command to build your project local testing and deployment:\r\n",
      " \r\n",
      "```bash\r\n",
      "sam build\r\n",
      "```\r\n",
      "\r\n",
      "If your dependencies contain native modules that need to be compiled specifically for the operating system running on AWS Lambda, use this command to build inside a Lambda-like Docker container instead:\r\n",
      "```bash\r\n",
      "sam build --use-container\r\n",
      "```\r\n",
      " \r\n",
      "By default, this command writes built artifacts to `.aws-sam/build` folder.\r\n",
      "\r\n",
      "### Local development\r\n",
      "\r\n",
      "**Invoking function locally through local API Gateway**\r\n",
      "\r\n",
      "```bash\r\n",
      "sam local start-api\r\n",
      "```\r\n",
      "\r\n",
      "If the previous command ran successfully you should now be able to hit the following local endpoint to invoke your function `http://localhost:3000/hello`\r\n",
      "\r\n",
      "**SAM CLI** is used to emulate both Lambda and API Gateway locally and uses our `template.yaml` to understand how to bootstrap this environment (runtime, where the source code is, etc.) - The following excerpt is what the CLI will read in order to initialize an API and its routes:\r\n",
      "\r\n",
      "```yaml\r\n",
      "...\r\n",
      "Events:\r\n",
      "    HelloWorld:\r\n",
      "        Type: Api # More info about API Event Source: https://github.com/awslabs/serverless-application-model/blob/master/versions/2016-10-31.md#api\r\n",
      "        Properties:\r\n",
      "            Path: /hello\r\n",
      "            Method: get\r\n",
      "```\r\n",
      "\r\n",
      "## Packaging and deployment\r\n",
      "\r\n",
      "AWS Lambda Python runtime requires a flat folder with all dependencies including the application. SAM will use `CodeUri` property to know where to look up for both application and dependencies:\r\n",
      "\r\n",
      "```yaml\r\n",
      "...\r\n",
      "    HelloWorldFunction:\r\n",
      "        Type: AWS::Serverless::Function\r\n",
      "        Properties:\r\n",
      "            CodeUri: hello_world/\r\n",
      "            ...\r\n",
      "```\r\n",
      "\r\n",
      "Firstly, we need a `S3 bucket` where we can upload our Lambda functions packaged as ZIP before we deploy anything - If you don't have a S3 bucket to store code artifacts then this is a good time to create one:\r\n",
      "\r\n",
      "```bash\r\n",
      "aws s3 mb s3://BUCKET_NAME\r\n",
      "```\r\n",
      "\r\n",
      "Next, run the following command to package our Lambda function to S3:\r\n",
      "\r\n",
      "```bash\r\n",
      "sam package \\\r\n",
      "    --output-template-file packaged.yaml \\\r\n",
      "    --s3-bucket REPLACE_THIS_WITH_YOUR_S3_BUCKET_NAME\r\n",
      "```\r\n",
      "\r\n",
      "Next, the following command will create a Cloudformation Stack and deploy your SAM resources.\r\n",
      "\r\n",
      "```bash\r\n",
      "sam deploy \\\r\n",
      "    --template-file packaged.yaml \\\r\n",
      "    --stack-name serverless-todo \\\r\n",
      "    --capabilities CAPABILITY_IAM\r\n",
      "```\r\n",
      "\r\n",
      "> **See [Serverless Application Model (SAM) HOWTO Guide](https://github.com/awslabs/serverless-application-model/blob/master/HOWTO.md) for more details in how to get started.**\r\n",
      "\r\n",
      "After deployment is complete you can run the following command to retrieve the API Gateway Endpoint URL:\r\n",
      "\r\n",
      "```bash\r\n",
      "aws cloudformation describe-stacks \\\r\n",
      "    --stack-name serverless-todo \\\r\n",
      "    --query 'Stacks[].Outputs'\r\n",
      "``` \r\n",
      "\r\n",
      "## Testing\r\n",
      "\r\n",
      "We use **Pytest** and **pytest-mock** for testing our code and you can install it using pip: ``pip install pytest pytest-mock`` \r\n",
      "\r\n",
      "Next, we run `pytest` against our `tests` folder to run our initial unit tests:\r\n",
      "\r\n",
      "```bash\r\n",
      "python -m pytest tests/ -v\r\n",
      "```\r\n",
      "\r\n",
      "**NOTE**: It is recommended to use a Python Virtual environment to separate your application development from  your system Python installation.\r\n",
      "\r\n",
      "# Appendix\r\n",
      "\r\n",
      "### Python Virtual environment\r\n",
      "**In case you're new to this**, python3 comes with `virtualenv` library by default so you can simply run the following:\r\n",
      "\r\n",
      "1. Create a new virtual environment\r\n",
      "2. Install dependencies in the new virtual environment\r\n",
      "\r\n",
      "```bash\r\n",
      "python3 -m venv .venv\r\n",
      ". .venv/bin/activate\r\n",
      "pip install -r requirements.txt\r\n",
      "```\r\n",
      "\r\n",
      "\r\n",
      "**NOTE:** You can find more information about Virtual Environment at [Python Official Docs here](https://docs.python.org/3/tutorial/venv.html). Alternatively, you may want to look at [Pipenv](https://github.com/pypa/pipenv) as the new way of setting up development workflows\r\n",
      "## AWS CLI commands\r\n",
      "\r\n",
      "AWS CLI commands to package, deploy and describe outputs defined within the cloudformation stack:\r\n",
      "\r\n",
      "```bash\r\n",
      "sam package \\\r\n",
      "    --output-template-file packaged.yaml \\\r\n",
      "    --s3-bucket REPLACE_THIS_WITH_YOUR_S3_BUCKET_NAME\r\n",
      "\r\n",
      "sam deploy \\\r\n",
      "    --template-file packaged.yaml \\\r\n",
      "    --stack-name serverless-todo \\\r\n",
      "    --capabilities CAPABILITY_IAM \\\r\n",
      "    --parameter-overrides MyParameterSample=MySampleValue\r\n",
      "\r\n",
      "aws cloudformation describe-stacks \\\r\n",
      "    --stack-name serverless-todo --query 'Stacks[].Outputs'\r\n",
      "```\r\n",
      "\r\n",
      "## Bringing to the next level\r\n",
      "\r\n",
      "Here are a few ideas that you can use to get more acquainted as to how this overall process works:\r\n",
      "\r\n",
      "* Create an additional API resource (e.g. /hello/{proxy+}) and return the name requested through this new path\r\n",
      "* Update unit test to capture that\r\n",
      "* Package & Deploy\r\n",
      "\r\n",
      "Next, you can use the following resources to know more about beyond hello world samples and how others structure their Serverless applications:\r\n",
      "\r\n",
      "* [AWS Serverless Application Repository](https://aws.amazon.com/serverless/serverlessrepo/)\r\n",
      "* [Chalice Python Serverless framework](https://github.com/aws/chalice)\r\n",
      "* Sample Python with 3rd party dependencies, pipenv and Makefile: ``sam init --location https://github.com/aws-samples/cookiecutter-aws-sam-python``\r\n"
     ]
    }
   ],
   "source": [
    "!cat serverless-todo/README.md"
   ]
  },
  {
   "cell_type": "markdown",
   "metadata": {},
   "source": [
    "## Load required dependencies locally to the application"
   ]
  },
  {
   "cell_type": "code",
   "execution_count": 8,
   "metadata": {},
   "outputs": [
    {
     "name": "stdout",
     "output_type": "stream",
     "text": [
      "Collecting requests==2.20.0 (from -r serverless-todo/hello_world/requirements.txt (line 1))\n",
      "\u001b[?25l  Downloading https://files.pythonhosted.org/packages/f1/ca/10332a30cb25b627192b4ea272c351bce3ca1091e541245cccbace6051d8/requests-2.20.0-py2.py3-none-any.whl (60kB)\n",
      "\u001b[K    100% |████████████████████████████████| 61kB 4.1MB/s ta 0:00:011\n",
      "\u001b[?25hCollecting idna<2.8,>=2.5 (from requests==2.20.0->-r serverless-todo/hello_world/requirements.txt (line 1))\n",
      "  Using cached https://files.pythonhosted.org/packages/4b/2a/0276479a4b3caeb8a8c1af2f8e4355746a97fab05a372e4a2c6a6b876165/idna-2.7-py2.py3-none-any.whl\n",
      "Collecting certifi>=2017.4.17 (from requests==2.20.0->-r serverless-todo/hello_world/requirements.txt (line 1))\n",
      "  Using cached https://files.pythonhosted.org/packages/9f/e0/accfc1b56b57e9750eba272e24c4dddeac86852c2bebd1236674d7887e8a/certifi-2018.11.29-py2.py3-none-any.whl\n",
      "Collecting chardet<3.1.0,>=3.0.2 (from requests==2.20.0->-r serverless-todo/hello_world/requirements.txt (line 1))\n",
      "  Using cached https://files.pythonhosted.org/packages/bc/a9/01ffebfb562e4274b6487b4bb1ddec7ca55ec7510b22e4c51f14098443b8/chardet-3.0.4-py2.py3-none-any.whl\n",
      "Collecting urllib3<1.25,>=1.21.1 (from requests==2.20.0->-r serverless-todo/hello_world/requirements.txt (line 1))\n",
      "  Using cached https://files.pythonhosted.org/packages/62/00/ee1d7de624db8ba7090d1226aebefab96a2c71cd5cfa7629d6ad3f61b79e/urllib3-1.24.1-py2.py3-none-any.whl\n",
      "\u001b[31maws-sam-cli 0.10.0 has requirement requests==2.20.1, but you'll have requests 2.20.0 which is incompatible.\u001b[0m\n",
      "Installing collected packages: idna, certifi, chardet, urllib3, requests\n",
      "Successfully installed certifi-2018.11.29 chardet-3.0.4 idna-2.7 requests-2.20.0 urllib3-1.24.1\n",
      "\u001b[33mYou are using pip version 10.0.1, however version 18.1 is available.\n",
      "You should consider upgrading via the 'pip install --upgrade pip' command.\u001b[0m\n"
     ]
    }
   ],
   "source": [
    "!pip install -r serverless-todo/hello_world/requirements.txt -t serverless-todo/hello_world/"
   ]
  },
  {
   "cell_type": "code",
   "execution_count": 9,
   "metadata": {},
   "outputs": [
    {
     "name": "stdout",
     "output_type": "stream",
     "text": [
      "\u001b[34mimport\u001b[39;49;00m \u001b[04m\u001b[36mjson\u001b[39;49;00m\r\n",
      "\r\n",
      "\u001b[34mimport\u001b[39;49;00m \u001b[04m\u001b[36mrequests\u001b[39;49;00m\r\n",
      "\r\n",
      "\r\n",
      "\u001b[34mdef\u001b[39;49;00m \u001b[32mlambda_handler\u001b[39;49;00m(event, context):\r\n",
      "    \u001b[33m\"\"\"Sample pure Lambda function\u001b[39;49;00m\r\n",
      "\u001b[33m\u001b[39;49;00m\r\n",
      "\u001b[33m    Parameters\u001b[39;49;00m\r\n",
      "\u001b[33m    ----------\u001b[39;49;00m\r\n",
      "\u001b[33m    event: dict, required\u001b[39;49;00m\r\n",
      "\u001b[33m        API Gateway Lambda Proxy Input Format\u001b[39;49;00m\r\n",
      "\u001b[33m\u001b[39;49;00m\r\n",
      "\u001b[33m        {\u001b[39;49;00m\r\n",
      "\u001b[33m            \"resource\": \"Resource path\",\u001b[39;49;00m\r\n",
      "\u001b[33m            \"path\": \"Path parameter\",\u001b[39;49;00m\r\n",
      "\u001b[33m            \"httpMethod\": \"Incoming request's method name\"\u001b[39;49;00m\r\n",
      "\u001b[33m            \"headers\": {Incoming request headers}\u001b[39;49;00m\r\n",
      "\u001b[33m            \"queryStringParameters\": {query string parameters }\u001b[39;49;00m\r\n",
      "\u001b[33m            \"pathParameters\":  {path parameters}\u001b[39;49;00m\r\n",
      "\u001b[33m            \"stageVariables\": {Applicable stage variables}\u001b[39;49;00m\r\n",
      "\u001b[33m            \"requestContext\": {Request context, including authorizer-returned key-value pairs}\u001b[39;49;00m\r\n",
      "\u001b[33m            \"body\": \"A JSON string of the request payload.\"\u001b[39;49;00m\r\n",
      "\u001b[33m            \"isBase64Encoded\": \"A boolean flag to indicate if the applicable request payload is Base64-encode\"\u001b[39;49;00m\r\n",
      "\u001b[33m        }\u001b[39;49;00m\r\n",
      "\u001b[33m\u001b[39;49;00m\r\n",
      "\u001b[33m        https://docs.aws.amazon.com/apigateway/latest/developerguide/set-up-lambda-proxy-integrations.html#api-gateway-simple-proxy-for-lambda-input-format\u001b[39;49;00m\r\n",
      "\u001b[33m\u001b[39;49;00m\r\n",
      "\u001b[33m    context: object, required\u001b[39;49;00m\r\n",
      "\u001b[33m        Lambda Context runtime methods and attributes\u001b[39;49;00m\r\n",
      "\u001b[33m\u001b[39;49;00m\r\n",
      "\u001b[33m    Attributes\u001b[39;49;00m\r\n",
      "\u001b[33m    ----------\u001b[39;49;00m\r\n",
      "\u001b[33m\u001b[39;49;00m\r\n",
      "\u001b[33m    context.aws_request_id: str\u001b[39;49;00m\r\n",
      "\u001b[33m         Lambda request ID\u001b[39;49;00m\r\n",
      "\u001b[33m    context.client_context: object\u001b[39;49;00m\r\n",
      "\u001b[33m         Additional context when invoked through AWS Mobile SDK\u001b[39;49;00m\r\n",
      "\u001b[33m    context.function_name: str\u001b[39;49;00m\r\n",
      "\u001b[33m         Lambda function name\u001b[39;49;00m\r\n",
      "\u001b[33m    context.function_version: str\u001b[39;49;00m\r\n",
      "\u001b[33m         Function version identifier\u001b[39;49;00m\r\n",
      "\u001b[33m    context.get_remaining_time_in_millis: function\u001b[39;49;00m\r\n",
      "\u001b[33m         Time in milliseconds before function times out\u001b[39;49;00m\r\n",
      "\u001b[33m    context.identity:\u001b[39;49;00m\r\n",
      "\u001b[33m         Cognito identity provider context when invoked through AWS Mobile SDK\u001b[39;49;00m\r\n",
      "\u001b[33m    context.invoked_function_arn: str\u001b[39;49;00m\r\n",
      "\u001b[33m         Function ARN\u001b[39;49;00m\r\n",
      "\u001b[33m    context.log_group_name: str\u001b[39;49;00m\r\n",
      "\u001b[33m         Cloudwatch Log group name\u001b[39;49;00m\r\n",
      "\u001b[33m    context.log_stream_name: str\u001b[39;49;00m\r\n",
      "\u001b[33m         Cloudwatch Log stream name\u001b[39;49;00m\r\n",
      "\u001b[33m    context.memory_limit_in_mb: int\u001b[39;49;00m\r\n",
      "\u001b[33m        Function memory\u001b[39;49;00m\r\n",
      "\u001b[33m\u001b[39;49;00m\r\n",
      "\u001b[33m        https://docs.aws.amazon.com/lambda/latest/dg/python-context-object.html\u001b[39;49;00m\r\n",
      "\u001b[33m\u001b[39;49;00m\r\n",
      "\u001b[33m    Returns\u001b[39;49;00m\r\n",
      "\u001b[33m    ------\u001b[39;49;00m\r\n",
      "\u001b[33m    API Gateway Lambda Proxy Output Format: dict\u001b[39;49;00m\r\n",
      "\u001b[33m        'statusCode' and 'body' are required\u001b[39;49;00m\r\n",
      "\u001b[33m\u001b[39;49;00m\r\n",
      "\u001b[33m        {\u001b[39;49;00m\r\n",
      "\u001b[33m            \"isBase64Encoded\": true | false,\u001b[39;49;00m\r\n",
      "\u001b[33m            \"statusCode\": httpStatusCode,\u001b[39;49;00m\r\n",
      "\u001b[33m            \"headers\": {\"headerName\": \"headerValue\", ...},\u001b[39;49;00m\r\n",
      "\u001b[33m            \"body\": \"...\"\u001b[39;49;00m\r\n",
      "\u001b[33m        }\u001b[39;49;00m\r\n",
      "\u001b[33m\u001b[39;49;00m\r\n",
      "\u001b[33m        # api-gateway-simple-proxy-for-lambda-output-format\u001b[39;49;00m\r\n",
      "\u001b[33m        https: // docs.aws.amazon.com/apigateway/latest/developerguide/set-up-lambda-proxy-integrations.html\u001b[39;49;00m\r\n",
      "\u001b[33m    \"\"\"\u001b[39;49;00m\r\n",
      "\r\n",
      "    \u001b[34mtry\u001b[39;49;00m:\r\n",
      "        ip = requests.get(\u001b[33m\"\u001b[39;49;00m\u001b[33mhttp://checkip.amazonaws.com/\u001b[39;49;00m\u001b[33m\"\u001b[39;49;00m)\r\n",
      "    \u001b[34mexcept\u001b[39;49;00m requests.RequestException \u001b[34mas\u001b[39;49;00m e:\r\n",
      "        \u001b[37m# Send some context about this error to Lambda Logs\u001b[39;49;00m\r\n",
      "        \u001b[34mprint\u001b[39;49;00m(e)\r\n",
      "\r\n",
      "        \u001b[34mraise\u001b[39;49;00m e\r\n",
      "\r\n",
      "    \u001b[34mreturn\u001b[39;49;00m {\r\n",
      "        \u001b[33m\"\u001b[39;49;00m\u001b[33mstatusCode\u001b[39;49;00m\u001b[33m\"\u001b[39;49;00m: \u001b[34m200\u001b[39;49;00m,\r\n",
      "        \u001b[33m\"\u001b[39;49;00m\u001b[33mbody\u001b[39;49;00m\u001b[33m\"\u001b[39;49;00m: json.dumps(\r\n",
      "            {\u001b[33m\"\u001b[39;49;00m\u001b[33mmessage\u001b[39;49;00m\u001b[33m\"\u001b[39;49;00m: \u001b[33m\"\u001b[39;49;00m\u001b[33mhello world\u001b[39;49;00m\u001b[33m\"\u001b[39;49;00m, \u001b[33m\"\u001b[39;49;00m\u001b[33mlocation\u001b[39;49;00m\u001b[33m\"\u001b[39;49;00m: ip.text.replace(\u001b[33m\"\u001b[39;49;00m\u001b[33m\\n\u001b[39;49;00m\u001b[33m\"\u001b[39;49;00m, \u001b[33m\"\u001b[39;49;00m\u001b[33m\"\u001b[39;49;00m)}\r\n",
      "        ),\r\n",
      "    }\r\n"
     ]
    }
   ],
   "source": [
    "!pygmentize serverless-todo/hello_world/app.py"
   ]
  },
  {
   "cell_type": "markdown",
   "metadata": {},
   "source": [
    "### [Validate template](https://docs.aws.amazon.com/AWSCloudFormation/latest/UserGuide/using-cfn-validate-template.html)\n",
    "\n",
    "The `aws cloudformation validate-template` command is designed to check only the syntax of your template. It does not ensure that the property values that you have specified for a resource are valid for that resource. Nor does it determine the number of resources that will exist when the stack is created."
   ]
  },
  {
   "cell_type": "code",
   "execution_count": 10,
   "metadata": {},
   "outputs": [
    {
     "name": "stdout",
     "output_type": "stream",
     "text": [
      "{\r\n",
      "    \"Parameters\": [],\r\n",
      "    \"Description\": \"serverless-todo\\nSample SAM Template for serverless-todo\\n\"\r\n",
      "}\r\n"
     ]
    }
   ],
   "source": [
    "!aws cloudformation validate-template --template-body file://serverless-todo/template.yaml"
   ]
  },
  {
   "cell_type": "markdown",
   "metadata": {},
   "source": [
    "### [Package deployment](https://docs.aws.amazon.com/AWSCloudFormation/latest/UserGuide/using-cfn-cli-package.html)\n",
    "\n",
    "For some resource properties that require an Amazon S3 location (a bucket name and filename), you can specify local references instead. For example, you might specify the S3 location of your AWS Lambda function's source code or an Amazon API Gateway REST API's OpenAPI (formerly Swagger) file. Instead of manually uploading the files to an S3 bucket and then adding the location to your template, you can specify local references, called local artifacts, in your template and then use the package command to quickly upload them. A local artifact is a path to a file or folder that the package command uploads to Amazon S3. For example, an artifact can be a local path to your AWS Lambda function's source code or an Amazon API Gateway REST API's OpenAPI file."
   ]
  },
  {
   "cell_type": "code",
   "execution_count": 11,
   "metadata": {},
   "outputs": [
    {
     "name": "stdout",
     "output_type": "stream",
     "text": [
      "\r",
      "Uploading to serverless/57dca2a63cf906e01b0d0dfffccd86a5  262144 / 964965.0  (27.17%)\r",
      "Uploading to serverless/57dca2a63cf906e01b0d0dfffccd86a5  524288 / 964965.0  (54.33%)\r",
      "Uploading to serverless/57dca2a63cf906e01b0d0dfffccd86a5  786432 / 964965.0  (81.50%)\r",
      "Uploading to serverless/57dca2a63cf906e01b0d0dfffccd86a5  964965 / 964965.0  (100.00%)\r\n",
      "Successfully packaged artifacts and wrote output template to file serverless-todo/sam-template.yaml.\r\n",
      "Execute the following command to deploy the packaged template\r\n",
      "aws cloudformation deploy --template-file /home/ec2-user/SageMaker/aws-research-workshops/notebooks/serverless_apps/serverless-todo/sam-template.yaml --stack-name <YOUR STACK NAME>\r\n"
     ]
    }
   ],
   "source": [
    "!aws cloudformation package \\\n",
    "    --template-file serverless-todo/template.yaml \\\n",
    "    --output-template-file serverless-todo/sam-template.yaml \\\n",
    "    --s3-bucket $bucket \\\n",
    "    --s3-prefix serverless"
   ]
  },
  {
   "cell_type": "markdown",
   "metadata": {},
   "source": [
    "### [Deploy Application](https://docs.aws.amazon.com/AWSCloudFormation/latest/UserGuide/using-cfn-cli-deploy.html)\n",
    "\n",
    "AWS CloudFormation requires you to use a change set to create a template that includes transforms. Instead of independently creating and then executing a change set, use the `aws cloudformation deploy` command. When you run this command, it creates a change set, executes the change set, and then terminates. This command reduces the numbers of required steps when you create or update a stack that includes transforms."
   ]
  },
  {
   "cell_type": "code",
   "execution_count": 12,
   "metadata": {},
   "outputs": [
    {
     "name": "stdout",
     "output_type": "stream",
     "text": [
      "\n",
      "Waiting for changeset to be created..\n",
      "Waiting for stack create/update to complete\n",
      "Successfully created/updated stack - serverless-hello\n"
     ]
    }
   ],
   "source": [
    "!aws cloudformation deploy \\\n",
    "    --template-file serverless-todo/sam-template.yaml \\\n",
    "    --stack-name serverless-hello \\\n",
    "    --capabilities CAPABILITY_IAM"
   ]
  },
  {
   "cell_type": "markdown",
   "metadata": {},
   "source": [
    "### [View Output](https://docs.amazonaws.cn/en_us/AWSCloudFormation/latest/UserGuide/using-cfn-describing-stacks.html)\n",
    "\n",
    "The `aws cloudformation describe-stacks` command provides information on your running stacks. You can use an option to filter results on a stack name. This command returns information about the stack, including the name, stack identifier, and status."
   ]
  },
  {
   "cell_type": "code",
   "execution_count": 13,
   "metadata": {},
   "outputs": [
    {
     "name": "stdout",
     "output_type": "stream",
     "text": [
      "{\r\n",
      "    \"Stacks\": [\r\n",
      "        {\r\n",
      "            \"StackId\": \"arn:aws:cloudformation:us-west-2:649037252677:stack/serverless-hello/48666040-182b-11e9-805a-503ac931688d\",\r\n",
      "            \"StackName\": \"serverless-hello\",\r\n",
      "            \"ChangeSetId\": \"arn:aws:cloudformation:us-west-2:649037252677:changeSet/awscli-cloudformation-package-deploy-1547490978/43336ee3-78b2-4f43-a9bb-b33e187470c9\",\r\n",
      "            \"Description\": \"serverless-todo\\nSample SAM Template for serverless-todo\\n\",\r\n",
      "            \"CreationTime\": \"2019-01-14T18:36:18.907Z\",\r\n",
      "            \"LastUpdatedTime\": \"2019-01-14T18:36:24.174Z\",\r\n",
      "            \"RollbackConfiguration\": {},\r\n",
      "            \"StackStatus\": \"CREATE_COMPLETE\",\r\n",
      "            \"DisableRollback\": false,\r\n",
      "            \"NotificationARNs\": [],\r\n",
      "            \"Capabilities\": [\r\n",
      "                \"CAPABILITY_IAM\"\r\n",
      "            ],\r\n",
      "            \"Outputs\": [\r\n",
      "                {\r\n",
      "                    \"OutputKey\": \"HelloWorldFunctionIamRole\",\r\n",
      "                    \"OutputValue\": \"arn:aws:iam::649037252677:role/serverless-hello-HelloWorldFunctionRole-1BA4UORDC2FRS\",\r\n",
      "                    \"Description\": \"Implicit IAM Role created for Hello World function\"\r\n",
      "                },\r\n",
      "                {\r\n",
      "                    \"OutputKey\": \"HelloWorldApi\",\r\n",
      "                    \"OutputValue\": \"https://qap5gnmqzh.execute-api.us-west-2.amazonaws.com/Prod/hello/\",\r\n",
      "                    \"Description\": \"API Gateway endpoint URL for Prod stage for Hello World function\"\r\n",
      "                },\r\n",
      "                {\r\n",
      "                    \"OutputKey\": \"HelloWorldFunction\",\r\n",
      "                    \"OutputValue\": \"arn:aws:lambda:us-west-2:649037252677:function:serverless-hello-HelloWorldFunction-2X3ZTLTGWQGL\",\r\n",
      "                    \"Description\": \"Hello World Lambda Function ARN\"\r\n",
      "                }\r\n",
      "            ],\r\n",
      "            \"Tags\": [],\r\n",
      "            \"EnableTerminationProtection\": false,\r\n",
      "            \"DriftInformation\": {\r\n",
      "                \"StackDriftStatus\": \"NOT_CHECKED\"\r\n",
      "            }\r\n",
      "        }\r\n",
      "    ]\r\n",
      "}\r\n"
     ]
    }
   ],
   "source": [
    "!aws cloudformation describe-stacks --stack-name $stack_name --region $region"
   ]
  },
  {
   "cell_type": "markdown",
   "metadata": {},
   "source": [
    "### Get the API Endpoint created from the SAM deployment"
   ]
  },
  {
   "cell_type": "code",
   "execution_count": 29,
   "metadata": {},
   "outputs": [
    {
     "name": "stdout",
     "output_type": "stream",
     "text": [
      "HelloWorldFunctionIamRole=arn:aws:iam::649037252677:role/serverless-hello-HelloWorldFunctionRole-1BA4UORDC2FRS (Implicit IAM Role created for Hello World function)\n",
      "HelloWorldApi=https://qap5gnmqzh.execute-api.us-west-2.amazonaws.com/Prod/hello/ (API Gateway endpoint URL for Prod stage for Hello World function)\n",
      "HelloWorldFunction=arn:aws:lambda:us-west-2:649037252677:function:serverless-hello-HelloWorldFunction-2X3ZTLTGWQGL (Hello World Lambda Function ARN)\n",
      "https://qap5gnmqzh.execute-api.us-west-2.amazonaws.com/Prod/hello/\n"
     ]
    }
   ],
   "source": [
    "stacks = cfn.describe_stacks(StackName=stack_name)\n",
    "stack = stacks[\"Stacks\"][0]\n",
    "\n",
    "for output in stack[\"Outputs\"]:\n",
    "    if output[\"OutputKey\"] == 'HelloWorldApi':\n",
    "        api_endpoint = output[\"OutputValue\"]\n",
    "#     print('%s=%s (%s)' % (output[\"OutputKey\"], output[\"OutputValue\"], output[\"Description\"]))\n",
    "    \n",
    "print(api_endpoint)"
   ]
  },
  {
   "cell_type": "markdown",
   "metadata": {},
   "source": [
    "### Call REST API\n",
    "\n",
    "After we create and deploy the project we will install [httpie](https://httpie.org/) which is a framework that consists of a single `http` command designed for interaction with HTTP servers, RESTful APIs, and web services. Replace the variable `{{api-gw-address}}` with the `HelloWorldApi` in `Outputs` above."
   ]
  },
  {
   "cell_type": "code",
   "execution_count": 30,
   "metadata": {},
   "outputs": [
    {
     "name": "stdout",
     "output_type": "stream",
     "text": [
      "Requirement already satisfied: httpie in /home/ec2-user/anaconda3/envs/python3/lib/python3.6/site-packages (1.0.2)\n",
      "Requirement already satisfied: Pygments>=2.1.3 in /home/ec2-user/anaconda3/envs/python3/lib/python3.6/site-packages (from httpie) (2.2.0)\n",
      "Requirement already satisfied: requests>=2.18.4 in /home/ec2-user/anaconda3/envs/python3/lib/python3.6/site-packages (from httpie) (2.20.1)\n",
      "Requirement already satisfied: certifi>=2017.4.17 in /home/ec2-user/anaconda3/envs/python3/lib/python3.6/site-packages (from requests>=2.18.4->httpie) (2018.8.24)\n",
      "Requirement already satisfied: idna<2.8,>=2.5 in /home/ec2-user/anaconda3/envs/python3/lib/python3.6/site-packages (from requests>=2.18.4->httpie) (2.6)\n",
      "Requirement already satisfied: urllib3<1.25,>=1.21.1 in /home/ec2-user/anaconda3/envs/python3/lib/python3.6/site-packages (from requests>=2.18.4->httpie) (1.22)\n",
      "Requirement already satisfied: chardet<3.1.0,>=3.0.2 in /home/ec2-user/anaconda3/envs/python3/lib/python3.6/site-packages (from requests>=2.18.4->httpie) (3.0.4)\n",
      "\u001b[33mYou are using pip version 10.0.1, however version 18.1 is available.\n",
      "You should consider upgrading via the 'pip install --upgrade pip' command.\u001b[0m\n"
     ]
    }
   ],
   "source": [
    "!pip install httpie"
   ]
  },
  {
   "cell_type": "code",
   "execution_count": 32,
   "metadata": {},
   "outputs": [
    {
     "name": "stdout",
     "output_type": "stream",
     "text": [
      "calling https://qap5gnmqzh.execute-api.us-west-2.amazonaws.com/Prod/hello/\n",
      "\u001b[34mHTTP\u001b[39;49;00m/\u001b[34m1.1\u001b[39;49;00m \u001b[34m200\u001b[39;49;00m \u001b[36mOK\u001b[39;49;00m\n",
      "\u001b[36mConnection\u001b[39;49;00m: keep-alive\n",
      "\u001b[36mContent-Length\u001b[39;49;00m: 55\n",
      "\u001b[36mContent-Type\u001b[39;49;00m: application/json\n",
      "\u001b[36mDate\u001b[39;49;00m: Mon, 14 Jan 2019 18:57:01 GMT\n",
      "\u001b[36mVia\u001b[39;49;00m: 1.1 9ef715d1b9b8a67b762e820aa1b51ded.cloudfront.net (CloudFront)\n",
      "\u001b[36mX-Amz-Cf-Id\u001b[39;49;00m: w3RdoWw-2GZZsjixLxy7wy1AEDABokr9pdPm-K7umF2Z4QAVWpCFcQ==\n",
      "\u001b[36mX-Amzn-Trace-Id\u001b[39;49;00m: Root=1-5c3cdb7d-c4cbf44e92eb180409c79038;Sampled=0\n",
      "\u001b[36mX-Cache\u001b[39;49;00m: Miss from cloudfront\n",
      "\u001b[36mx-amz-apigw-id\u001b[39;49;00m: Tgc7oGEePHcFZLw=\n",
      "\u001b[36mx-amzn-RequestId\u001b[39;49;00m: 2d26a449-182e-11e9-b7d0-99d8721f1252\n",
      "\n",
      "{\n",
      "    \u001b[34;01m\"location\"\u001b[39;49;00m: \u001b[33m\"34.216.154.35\"\u001b[39;49;00m,\n",
      "    \u001b[34;01m\"message\"\u001b[39;49;00m: \u001b[33m\"hello world\"\u001b[39;49;00m\n",
      "}\n",
      "\n"
     ]
    }
   ],
   "source": [
    "print('calling {0}'.format(api_endpoint))\n",
    "!http $api_endpoint"
   ]
  },
  {
   "cell_type": "markdown",
   "metadata": {},
   "source": [
    "### Create a TODO application from the Hello World example\n",
    "\n"
   ]
  },
  {
   "cell_type": "markdown",
   "metadata": {},
   "source": [
    "### Create a todo"
   ]
  },
  {
   "cell_type": "code",
   "execution_count": null,
   "metadata": {},
   "outputs": [],
   "source": [
    "echo '{ \"text\": \"My First Todo\" }' | http POST https://{api-url}/dev/todos\n",
    "http https://{api-url}/dev/todos"
   ]
  },
  {
   "cell_type": "markdown",
   "metadata": {},
   "source": [
    "### List the todos available"
   ]
  },
  {
   "cell_type": "code",
   "execution_count": null,
   "metadata": {},
   "outputs": [],
   "source": [
    "!http POST https://{api-url}/dev/todos"
   ]
  },
  {
   "cell_type": "markdown",
   "metadata": {},
   "source": [
    "Now you can see how easy it is to create a microservice using Lambda but what if we wanted to only allow authenticated users to have the ability to create todos? We can create a Cognito user pool and use it as an authorizer to the API. The deployment should have already created the Cognito user pool, so we will use that and hook it up to the create method of the service. \n",
    "\n",
    "Change the serverless.yml file to add the authorizer like below.\n",
    "\n",
    "```\n",
    "    authorizer:\n",
    "        type: COGNITO_USER_POOLS\n",
    "        authorizerId:\n",
    "            Ref: TodoApiGatewayAuthorizer\n",
    "```\n",
    "\n",
    "Let's redeploy the service and try and add a todo"
   ]
  },
  {
   "cell_type": "code",
   "execution_count": null,
   "metadata": {},
   "outputs": [],
   "source": [
    "!sls deploy -v"
   ]
  },
  {
   "cell_type": "code",
   "execution_count": null,
   "metadata": {},
   "outputs": [],
   "source": [
    "!echo '{ \"text\": \"My First Todo\" }' | http POST https://{api-url}/dev/todos"
   ]
  },
  {
   "cell_type": "markdown",
   "metadata": {},
   "source": [
    "This should have returned an HTTP/1.1 401 Unauthorized because you did not send the appropriate Authorization header on the call. We will simulate a user logging into the application and passing the bearer token in the headers of the request. Running the 3 methods below will simulate creating a user, confirming the user, and generating the appropriate auth for the user to be able to create the todo. Grab the IdToken generated and add it to the headers like the command below.\n",
    "\n",
    "### Create user in Cognito"
   ]
  },
  {
   "cell_type": "code",
   "execution_count": null,
   "metadata": {},
   "outputs": [],
   "source": [
    "!aws cognito-idp sign-up --region {your-aws-region} --client-id {cognito-client-id} --username admin@example.com --password {password}"
   ]
  },
  {
   "cell_type": "markdown",
   "metadata": {},
   "source": [
    "### Confirm the sign up of the user"
   ]
  },
  {
   "cell_type": "code",
   "execution_count": null,
   "metadata": {},
   "outputs": [],
   "source": [
    "!aws cognito-idp admin-confirm-sign-up --region {your-aws-region} --user-pool-id {cognito-user-pool} --username admin@example.com"
   ]
  },
  {
   "cell_type": "markdown",
   "metadata": {},
   "source": [
    "### Initiate the authentication to generate the token"
   ]
  },
  {
   "cell_type": "code",
   "execution_count": null,
   "metadata": {},
   "outputs": [],
   "source": [
    "!aws cognito-idp admin-initiate-auth --region {your-aws-region} --cli-input-json file://auth.json"
   ]
  },
  {
   "cell_type": "code",
   "execution_count": null,
   "metadata": {},
   "outputs": [],
   "source": [
    "!echo '{ \"text\": \"My Authenticated Todo\" }' | http POST https://{api-url}/dev/todos Authorization:\"Bearer {your-idtoken}\""
   ]
  },
  {
   "cell_type": "markdown",
   "metadata": {},
   "source": [
    "Now you should have created a new todo after the authorizer approves the token.\n",
    "\n",
    "### Register a user\n",
    "\n",
    "> aws cognito-idp sign-up --region {your-aws-region} --client-id {your-client-id} --username admin@example.com --password {password}\n",
    "\n",
    "### Confirm user registration\n",
    "\n",
    "> aws cognito-idp admin-confirm-sign-up --region {your-aws-region} --user-pool-id {your-user-pool-id} --username admin@example.com\n",
    "\n",
    "### Authenticate (get tokens)\n",
    "\n",
    "> aws cognito-idp admin-initiate-auth --region {your-aws-region} --cli-input-json file://auth.json\n",
    "\n",
    "### Where auth.json is:\n",
    "\n",
    ">{\n",
    "    \"UserPoolId\": \"{your-user-pool-id}\",\n",
    "    \"ClientId\": \"{your-client-id}\",\n",
    "    \"AuthFlow\": \"ADMIN_NO_SRP_AUTH\",\n",
    "    \"AuthParameters\": {\n",
    "        \"USERNAME\": \"admin@example.com\",\n",
    "        \"PASSWORD\": \"{password}\"\n",
    "    }\n",
    "}\n",
    "\n",
    "### You should get a response like this if everything is set up correctly:\n",
    "\n",
    ">{\n",
    "    \"AuthenticationResult\": {\n",
    "        \"ExpiresIn\": 3600,\n",
    "        \"IdToken\": \"{your-idtoken}\",\n",
    "        \"RefreshToken\": \"{your-refresh-token}\",\n",
    "        \"TokenType\": \"Bearer\",\n",
    "        \"AccessToken\": \"{your-access-token}\"\n",
    "    },\n",
    "    \"ChallengeParameters\": {}\n",
    "}"
   ]
  },
  {
   "cell_type": "markdown",
   "metadata": {},
   "source": [
    "## Cleanup"
   ]
  },
  {
   "cell_type": "code",
   "execution_count": null,
   "metadata": {},
   "outputs": [],
   "source": [
    "!aws cloudformation delete-stack --stack-name $stack_name"
   ]
  },
  {
   "cell_type": "code",
   "execution_count": null,
   "metadata": {},
   "outputs": [],
   "source": [
    "workshop.delete_bucket_completely(bucket)"
   ]
  }
 ],
 "metadata": {
  "kernelspec": {
   "display_name": "conda_python3",
   "language": "python",
   "name": "conda_python3"
  },
  "language_info": {
   "codemirror_mode": {
    "name": "ipython",
    "version": 3
   },
   "file_extension": ".py",
   "mimetype": "text/x-python",
   "name": "python",
   "nbconvert_exporter": "python",
   "pygments_lexer": "ipython3",
   "version": "3.6.5"
  }
 },
 "nbformat": 4,
 "nbformat_minor": 2
}
