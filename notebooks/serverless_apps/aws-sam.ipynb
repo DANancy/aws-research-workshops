{
 "cells": [
  {
   "cell_type": "markdown",
   "metadata": {},
   "source": [
    "## Creating the AWS Serverless Application Model (SAM) application\n",
    "\n",
    "### Verify pre-requisites for AWS SAM\n",
    "SAM requires python 2.7 or 3.6 and pip to be installed to continue."
   ]
  },
  {
   "cell_type": "code",
   "execution_count": 64,
   "metadata": {},
   "outputs": [],
   "source": [
    "import os\n",
    "import sagemaker\n",
    "from sagemaker import get_execution_role\n",
    "# import project_path\n",
    "# from lib import utils\n",
    "import boto3\n",
    "\n",
    "role = get_execution_role()\n",
    "\n",
    "# use the region-specific sample data bucket\n",
    "region = boto3.Session().region_name\n",
    "bucket = '{{s3_workshop_bucket}}'\n",
    "stack_name = \"serverless-hello\""
   ]
  },
  {
   "cell_type": "code",
   "execution_count": null,
   "metadata": {},
   "outputs": [],
   "source": [
    "!python --version\n",
    "!pip --version"
   ]
  },
  {
   "cell_type": "markdown",
   "metadata": {},
   "source": [
    "### Installing AWS SAM"
   ]
  },
  {
   "cell_type": "code",
   "execution_count": null,
   "metadata": {},
   "outputs": [],
   "source": [
    "!pip install --user aws-sam-cli"
   ]
  },
  {
   "cell_type": "markdown",
   "metadata": {},
   "source": [
    "### Verify the latest version of SAM is installed "
   ]
  },
  {
   "cell_type": "code",
   "execution_count": 2,
   "metadata": {},
   "outputs": [
    {
     "name": "stdout",
     "output_type": "stream",
     "text": [
      "/home/ec2-user/.local\r\n"
     ]
    }
   ],
   "source": [
    "!python -m site --user-base"
   ]
  },
  {
   "cell_type": "code",
   "execution_count": 87,
   "metadata": {},
   "outputs": [
    {
     "name": "stdout",
     "output_type": "stream",
     "text": [
      "SAM CLI, version 0.10.0\n"
     ]
    }
   ],
   "source": [
    "%%bash\n",
    "export PATH=$PATH:/home/ec2-user/.local/bin\n",
    "sam --version"
   ]
  },
  {
   "cell_type": "code",
   "execution_count": 26,
   "metadata": {},
   "outputs": [
    {
     "name": "stdout",
     "output_type": "stream",
     "text": [
      "\u001b[32m[+] Initializing project structure...\u001b[0m\n",
      "\u001b[1m[SUCCESS] - Read serverless-todo/README.md for further instructions on how to proceed\u001b[0m\n",
      "\u001b[32m[*] Project initialization is now complete\u001b[0m\n"
     ]
    }
   ],
   "source": [
    "%bash\n",
    "/home/ec2-user/.local/bin/sam init -r python3.6 -n serverless-todo"
   ]
  },
  {
   "cell_type": "code",
   "execution_count": 27,
   "metadata": {},
   "outputs": [
    {
     "name": "stdout",
     "output_type": "stream",
     "text": [
      "hello_world  README.md\ttemplate.yaml  tests\r\n"
     ]
    }
   ],
   "source": [
    "!ls serverless-todo/"
   ]
  },
  {
   "cell_type": "code",
   "execution_count": 29,
   "metadata": {},
   "outputs": [
    {
     "name": "stdout",
     "output_type": "stream",
     "text": [
      "AWSTemplateFormatVersion: '2010-09-09'\r\n",
      "Transform: AWS::Serverless-2016-10-31\r\n",
      "Description: >\r\n",
      "    serverless-todo\r\n",
      "\r\n",
      "    Sample SAM Template for serverless-todo\r\n",
      "\r\n",
      "# More info about Globals: https://github.com/awslabs/serverless-application-model/blob/master/docs/globals.rst\r\n",
      "Globals:\r\n",
      "    Function:\r\n",
      "        Timeout: 3\r\n",
      "\r\n",
      "\r\n",
      "Resources:\r\n",
      "\r\n",
      "    HelloWorldFunction:\r\n",
      "        Type: AWS::Serverless::Function # More info about Function Resource: https://github.com/awslabs/serverless-application-model/blob/master/versions/2016-10-31.md#awsserverlessfunction\r\n",
      "        Properties:\r\n",
      "            CodeUri: hello_world/\r\n",
      "            Handler: app.lambda_handler\r\n",
      "            Runtime: python3.6\r\n",
      "            Environment: # More info about Env Vars: https://github.com/awslabs/serverless-application-model/blob/master/versions/2016-10-31.md#environment-object\r\n",
      "                Variables:\r\n",
      "                    PARAM1: VALUE\r\n",
      "            Events:\r\n",
      "                HelloWorld:\r\n",
      "                    Type: Api # More info about API Event Source: https://github.com/awslabs/serverless-application-model/blob/master/versions/2016-10-31.md#api\r\n",
      "                    Properties:\r\n",
      "                        Path: /hello\r\n",
      "                        Method: get\r\n",
      "\r\n",
      "Outputs:\r\n",
      "\r\n",
      "    HelloWorldApi:\r\n",
      "      Description: \"API Gateway endpoint URL for Prod stage for Hello World function\"\r\n",
      "      Value: !Sub \"https://${ServerlessRestApi}.execute-api.${AWS::Region}.amazonaws.com/Prod/hello/\"\r\n",
      "\r\n",
      "    HelloWorldFunction:\r\n",
      "      Description: \"Hello World Lambda Function ARN\"\r\n",
      "      Value: !GetAtt HelloWorldFunction.Arn\r\n",
      "\r\n",
      "    HelloWorldFunctionIamRole:\r\n",
      "      Description: \"Implicit IAM Role created for Hello World function\"\r\n",
      "      Value: !GetAtt HelloWorldFunctionRole.Arn\r\n"
     ]
    }
   ],
   "source": [
    "!cat serverless-todo/template.yaml"
   ]
  },
  {
   "cell_type": "code",
   "execution_count": null,
   "metadata": {},
   "outputs": [],
   "source": [
    "cd serverless-todo "
   ]
  },
  {
   "cell_type": "code",
   "execution_count": 85,
   "metadata": {},
   "outputs": [
    {
     "name": "stdout",
     "output_type": "stream",
     "text": [
      "Collecting requests==2.20.0 (from -r hello_world/requirements.txt (line 1))\n",
      "  Using cached https://files.pythonhosted.org/packages/f1/ca/10332a30cb25b627192b4ea272c351bce3ca1091e541245cccbace6051d8/requests-2.20.0-py2.py3-none-any.whl\n",
      "Collecting idna<2.8,>=2.5 (from requests==2.20.0->-r hello_world/requirements.txt (line 1))\n",
      "  Using cached https://files.pythonhosted.org/packages/4b/2a/0276479a4b3caeb8a8c1af2f8e4355746a97fab05a372e4a2c6a6b876165/idna-2.7-py2.py3-none-any.whl\n",
      "Collecting chardet<3.1.0,>=3.0.2 (from requests==2.20.0->-r hello_world/requirements.txt (line 1))\n",
      "  Using cached https://files.pythonhosted.org/packages/bc/a9/01ffebfb562e4274b6487b4bb1ddec7ca55ec7510b22e4c51f14098443b8/chardet-3.0.4-py2.py3-none-any.whl\n",
      "Collecting certifi>=2017.4.17 (from requests==2.20.0->-r hello_world/requirements.txt (line 1))\n",
      "  Using cached https://files.pythonhosted.org/packages/9f/e0/accfc1b56b57e9750eba272e24c4dddeac86852c2bebd1236674d7887e8a/certifi-2018.11.29-py2.py3-none-any.whl\n",
      "Collecting urllib3<1.25,>=1.21.1 (from requests==2.20.0->-r hello_world/requirements.txt (line 1))\n",
      "  Using cached https://files.pythonhosted.org/packages/62/00/ee1d7de624db8ba7090d1226aebefab96a2c71cd5cfa7629d6ad3f61b79e/urllib3-1.24.1-py2.py3-none-any.whl\n",
      "\u001b[31maws-sam-cli 0.10.0 has requirement requests==2.20.1, but you'll have requests 2.20.0 which is incompatible.\u001b[0m\n",
      "Installing collected packages: idna, chardet, certifi, urllib3, requests\n",
      "Successfully installed certifi-2018.11.29 chardet-3.0.4 idna-2.7 requests-2.20.0 urllib3-1.24.1\n",
      "\u001b[33mTarget directory /home/ec2-user/SageMaker/aws-research-workshops/notebooks/serverless_apps/serverless-todo/hello_world/idna-2.7.dist-info already exists. Specify --upgrade to force replacement.\u001b[0m\n",
      "\u001b[33mTarget directory /home/ec2-user/SageMaker/aws-research-workshops/notebooks/serverless_apps/serverless-todo/hello_world/certifi already exists. Specify --upgrade to force replacement.\u001b[0m\n",
      "\u001b[33mTarget directory /home/ec2-user/SageMaker/aws-research-workshops/notebooks/serverless_apps/serverless-todo/hello_world/certifi-2018.11.29.dist-info already exists. Specify --upgrade to force replacement.\u001b[0m\n",
      "\u001b[33mTarget directory /home/ec2-user/SageMaker/aws-research-workshops/notebooks/serverless_apps/serverless-todo/hello_world/chardet-3.0.4.dist-info already exists. Specify --upgrade to force replacement.\u001b[0m\n",
      "\u001b[33mTarget directory /home/ec2-user/SageMaker/aws-research-workshops/notebooks/serverless_apps/serverless-todo/hello_world/urllib3-1.24.1.dist-info already exists. Specify --upgrade to force replacement.\u001b[0m\n",
      "\u001b[33mTarget directory /home/ec2-user/SageMaker/aws-research-workshops/notebooks/serverless_apps/serverless-todo/hello_world/requests-2.20.0.dist-info already exists. Specify --upgrade to force replacement.\u001b[0m\n",
      "\u001b[33mTarget directory /home/ec2-user/SageMaker/aws-research-workshops/notebooks/serverless_apps/serverless-todo/hello_world/urllib3 already exists. Specify --upgrade to force replacement.\u001b[0m\n",
      "\u001b[33mTarget directory /home/ec2-user/SageMaker/aws-research-workshops/notebooks/serverless_apps/serverless-todo/hello_world/requests already exists. Specify --upgrade to force replacement.\u001b[0m\n",
      "\u001b[33mTarget directory /home/ec2-user/SageMaker/aws-research-workshops/notebooks/serverless_apps/serverless-todo/hello_world/chardet already exists. Specify --upgrade to force replacement.\u001b[0m\n",
      "\u001b[33mTarget directory /home/ec2-user/SageMaker/aws-research-workshops/notebooks/serverless_apps/serverless-todo/hello_world/idna already exists. Specify --upgrade to force replacement.\u001b[0m\n",
      "\u001b[33mTarget directory /home/ec2-user/SageMaker/aws-research-workshops/notebooks/serverless_apps/serverless-todo/hello_world/bin already exists. Specify --upgrade to force replacement.\u001b[0m\n",
      "\u001b[33mYou are using pip version 10.0.1, however version 18.1 is available.\n",
      "You should consider upgrading via the 'pip install --upgrade pip' command.\u001b[0m\n"
     ]
    }
   ],
   "source": [
    "!pip install -r hello_world/requirements.txt -t hello_world/"
   ]
  },
  {
   "cell_type": "code",
   "execution_count": 80,
   "metadata": {},
   "outputs": [
    {
     "name": "stdout",
     "output_type": "stream",
     "text": [
      "app.py\t\t\t      __init__.py\r\n",
      "bin\t\t\t      __pycache__\r\n",
      "certifi\t\t\t      requests\r\n",
      "certifi-2018.11.29.dist-info  requests-2.20.0.dist-info\r\n",
      "chardet\t\t\t      requirements.txt\r\n",
      "chardet-3.0.4.dist-info       urllib3\r\n",
      "idna\t\t\t      urllib3-1.24.1.dist-info\r\n",
      "idna-2.7.dist-info\r\n"
     ]
    }
   ],
   "source": [
    "!ls hello_world"
   ]
  },
  {
   "cell_type": "code",
   "execution_count": 53,
   "metadata": {},
   "outputs": [
    {
     "name": "stdout",
     "output_type": "stream",
     "text": [
      "\u001b[34mimport\u001b[39;49;00m \u001b[04m\u001b[36mjson\u001b[39;49;00m\r\n",
      "\r\n",
      "\u001b[34mimport\u001b[39;49;00m \u001b[04m\u001b[36mrequests\u001b[39;49;00m\r\n",
      "\r\n",
      "\r\n",
      "\u001b[34mdef\u001b[39;49;00m \u001b[32mlambda_handler\u001b[39;49;00m(event, context):\r\n",
      "    \u001b[33m\"\"\"Sample pure Lambda function\u001b[39;49;00m\r\n",
      "\u001b[33m\u001b[39;49;00m\r\n",
      "\u001b[33m    Parameters\u001b[39;49;00m\r\n",
      "\u001b[33m    ----------\u001b[39;49;00m\r\n",
      "\u001b[33m    event: dict, required\u001b[39;49;00m\r\n",
      "\u001b[33m        API Gateway Lambda Proxy Input Format\u001b[39;49;00m\r\n",
      "\u001b[33m\u001b[39;49;00m\r\n",
      "\u001b[33m        {\u001b[39;49;00m\r\n",
      "\u001b[33m            \"resource\": \"Resource path\",\u001b[39;49;00m\r\n",
      "\u001b[33m            \"path\": \"Path parameter\",\u001b[39;49;00m\r\n",
      "\u001b[33m            \"httpMethod\": \"Incoming request's method name\"\u001b[39;49;00m\r\n",
      "\u001b[33m            \"headers\": {Incoming request headers}\u001b[39;49;00m\r\n",
      "\u001b[33m            \"queryStringParameters\": {query string parameters }\u001b[39;49;00m\r\n",
      "\u001b[33m            \"pathParameters\":  {path parameters}\u001b[39;49;00m\r\n",
      "\u001b[33m            \"stageVariables\": {Applicable stage variables}\u001b[39;49;00m\r\n",
      "\u001b[33m            \"requestContext\": {Request context, including authorizer-returned key-value pairs}\u001b[39;49;00m\r\n",
      "\u001b[33m            \"body\": \"A JSON string of the request payload.\"\u001b[39;49;00m\r\n",
      "\u001b[33m            \"isBase64Encoded\": \"A boolean flag to indicate if the applicable request payload is Base64-encode\"\u001b[39;49;00m\r\n",
      "\u001b[33m        }\u001b[39;49;00m\r\n",
      "\u001b[33m\u001b[39;49;00m\r\n",
      "\u001b[33m        https://docs.aws.amazon.com/apigateway/latest/developerguide/set-up-lambda-proxy-integrations.html#api-gateway-simple-proxy-for-lambda-input-format\u001b[39;49;00m\r\n",
      "\u001b[33m\u001b[39;49;00m\r\n",
      "\u001b[33m    context: object, required\u001b[39;49;00m\r\n",
      "\u001b[33m        Lambda Context runtime methods and attributes\u001b[39;49;00m\r\n",
      "\u001b[33m\u001b[39;49;00m\r\n",
      "\u001b[33m    Attributes\u001b[39;49;00m\r\n",
      "\u001b[33m    ----------\u001b[39;49;00m\r\n",
      "\u001b[33m\u001b[39;49;00m\r\n",
      "\u001b[33m    context.aws_request_id: str\u001b[39;49;00m\r\n",
      "\u001b[33m         Lambda request ID\u001b[39;49;00m\r\n",
      "\u001b[33m    context.client_context: object\u001b[39;49;00m\r\n",
      "\u001b[33m         Additional context when invoked through AWS Mobile SDK\u001b[39;49;00m\r\n",
      "\u001b[33m    context.function_name: str\u001b[39;49;00m\r\n",
      "\u001b[33m         Lambda function name\u001b[39;49;00m\r\n",
      "\u001b[33m    context.function_version: str\u001b[39;49;00m\r\n",
      "\u001b[33m         Function version identifier\u001b[39;49;00m\r\n",
      "\u001b[33m    context.get_remaining_time_in_millis: function\u001b[39;49;00m\r\n",
      "\u001b[33m         Time in milliseconds before function times out\u001b[39;49;00m\r\n",
      "\u001b[33m    context.identity:\u001b[39;49;00m\r\n",
      "\u001b[33m         Cognito identity provider context when invoked through AWS Mobile SDK\u001b[39;49;00m\r\n",
      "\u001b[33m    context.invoked_function_arn: str\u001b[39;49;00m\r\n",
      "\u001b[33m         Function ARN\u001b[39;49;00m\r\n",
      "\u001b[33m    context.log_group_name: str\u001b[39;49;00m\r\n",
      "\u001b[33m         Cloudwatch Log group name\u001b[39;49;00m\r\n",
      "\u001b[33m    context.log_stream_name: str\u001b[39;49;00m\r\n",
      "\u001b[33m         Cloudwatch Log stream name\u001b[39;49;00m\r\n",
      "\u001b[33m    context.memory_limit_in_mb: int\u001b[39;49;00m\r\n",
      "\u001b[33m        Function memory\u001b[39;49;00m\r\n",
      "\u001b[33m\u001b[39;49;00m\r\n",
      "\u001b[33m        https://docs.aws.amazon.com/lambda/latest/dg/python-context-object.html\u001b[39;49;00m\r\n",
      "\u001b[33m\u001b[39;49;00m\r\n",
      "\u001b[33m    Returns\u001b[39;49;00m\r\n",
      "\u001b[33m    ------\u001b[39;49;00m\r\n",
      "\u001b[33m    API Gateway Lambda Proxy Output Format: dict\u001b[39;49;00m\r\n",
      "\u001b[33m        'statusCode' and 'body' are required\u001b[39;49;00m\r\n",
      "\u001b[33m\u001b[39;49;00m\r\n",
      "\u001b[33m        {\u001b[39;49;00m\r\n",
      "\u001b[33m            \"isBase64Encoded\": true | false,\u001b[39;49;00m\r\n",
      "\u001b[33m            \"statusCode\": httpStatusCode,\u001b[39;49;00m\r\n",
      "\u001b[33m            \"headers\": {\"headerName\": \"headerValue\", ...},\u001b[39;49;00m\r\n",
      "\u001b[33m            \"body\": \"...\"\u001b[39;49;00m\r\n",
      "\u001b[33m        }\u001b[39;49;00m\r\n",
      "\u001b[33m\u001b[39;49;00m\r\n",
      "\u001b[33m        # api-gateway-simple-proxy-for-lambda-output-format\u001b[39;49;00m\r\n",
      "\u001b[33m        https: // docs.aws.amazon.com/apigateway/latest/developerguide/set-up-lambda-proxy-integrations.html\u001b[39;49;00m\r\n",
      "\u001b[33m    \"\"\"\u001b[39;49;00m\r\n",
      "\r\n",
      "    \u001b[34mtry\u001b[39;49;00m:\r\n",
      "        ip = requests.get(\u001b[33m\"\u001b[39;49;00m\u001b[33mhttp://checkip.amazonaws.com/\u001b[39;49;00m\u001b[33m\"\u001b[39;49;00m)\r\n",
      "    \u001b[34mexcept\u001b[39;49;00m requests.RequestException \u001b[34mas\u001b[39;49;00m e:\r\n",
      "        \u001b[37m# Send some context about this error to Lambda Logs\u001b[39;49;00m\r\n",
      "        \u001b[34mprint\u001b[39;49;00m(e)\r\n",
      "\r\n",
      "        \u001b[34mraise\u001b[39;49;00m e\r\n",
      "\r\n",
      "    \u001b[34mreturn\u001b[39;49;00m {\r\n",
      "        \u001b[33m\"\u001b[39;49;00m\u001b[33mstatusCode\u001b[39;49;00m\u001b[33m\"\u001b[39;49;00m: \u001b[34m200\u001b[39;49;00m,\r\n",
      "        \u001b[33m\"\u001b[39;49;00m\u001b[33mbody\u001b[39;49;00m\u001b[33m\"\u001b[39;49;00m: json.dumps(\r\n",
      "            {\u001b[33m\"\u001b[39;49;00m\u001b[33mmessage\u001b[39;49;00m\u001b[33m\"\u001b[39;49;00m: \u001b[33m\"\u001b[39;49;00m\u001b[33mhello world\u001b[39;49;00m\u001b[33m\"\u001b[39;49;00m, \u001b[33m\"\u001b[39;49;00m\u001b[33mlocation\u001b[39;49;00m\u001b[33m\"\u001b[39;49;00m: ip.text.replace(\u001b[33m\"\u001b[39;49;00m\u001b[33m\\n\u001b[39;49;00m\u001b[33m\"\u001b[39;49;00m, \u001b[33m\"\u001b[39;49;00m\u001b[33m\"\u001b[39;49;00m)}\r\n",
      "        ),\r\n",
      "    }\r\n"
     ]
    }
   ],
   "source": [
    "!pygmentize hello_world/app.py"
   ]
  },
  {
   "cell_type": "code",
   "execution_count": 81,
   "metadata": {},
   "outputs": [
    {
     "name": "stdout",
     "output_type": "stream",
     "text": [
      "{\r\n",
      "    \"Parameters\": [],\r\n",
      "    \"Description\": \"serverless-todo\\nSample SAM Template for serverless-todo\\n\"\r\n",
      "}\r\n"
     ]
    }
   ],
   "source": [
    "!aws cloudformation validate-template --template-body file://template.yaml"
   ]
  },
  {
   "cell_type": "code",
   "execution_count": 82,
   "metadata": {},
   "outputs": [
    {
     "name": "stdout",
     "output_type": "stream",
     "text": [
      "Uploading to serverless/8c12943ceafd7411b2d60bf9e4a10e6d  965088 / 965088.0  (100.00%)\n",
      "Successfully packaged artifacts and wrote output template to file sam-template.yaml.\n",
      "Execute the following command to deploy the packaged template\n",
      "aws cloudformation deploy --template-file /home/ec2-user/SageMaker/aws-research-workshops/notebooks/serverless_apps/serverless-todo/sam-template.yaml --stack-name <YOUR STACK NAME>\n"
     ]
    }
   ],
   "source": [
    "!aws cloudformation package \\\n",
    "    --template-file template.yaml \\\n",
    "    --output-template-file sam-template.yaml \\\n",
    "    --s3-bucket analytics-serverless-west \\\n",
    "    --s3-prefix serverless"
   ]
  },
  {
   "cell_type": "code",
   "execution_count": 83,
   "metadata": {},
   "outputs": [
    {
     "name": "stdout",
     "output_type": "stream",
     "text": [
      "\n",
      "Waiting for changeset to be created..\n",
      "Waiting for stack create/update to complete\n",
      "Successfully created/updated stack - serverless-hello\n"
     ]
    }
   ],
   "source": [
    "!aws cloudformation deploy \\\n",
    "    --template-file sam-template.yaml \\\n",
    "    --stack-name serverless-hello \\\n",
    "    --capabilities CAPABILITY_IAM"
   ]
  },
  {
   "cell_type": "code",
   "execution_count": 71,
   "metadata": {},
   "outputs": [
    {
     "name": "stdout",
     "output_type": "stream",
     "text": [
      "{\r\n",
      "    \"Stacks\": [\r\n",
      "        {\r\n",
      "            \"StackId\": \"arn:aws:cloudformation:us-west-2:649037252677:stack/serverless-hello/1bc40450-0cac-11e9-9a6e-028572da108e\",\r\n",
      "            \"StackName\": \"serverless-hello\",\r\n",
      "            \"ChangeSetId\": \"arn:aws:cloudformation:us-west-2:649037252677:changeSet/awscli-cloudformation-package-deploy-1546227907/9f6a077a-b6ec-49e2-a1b3-54e25b13deae\",\r\n",
      "            \"Description\": \"serverless-todo\\nSample SAM Template for serverless-todo\\n\",\r\n",
      "            \"CreationTime\": \"2018-12-31T03:28:15.142Z\",\r\n",
      "            \"LastUpdatedTime\": \"2018-12-31T03:45:13.188Z\",\r\n",
      "            \"RollbackConfiguration\": {},\r\n",
      "            \"StackStatus\": \"UPDATE_COMPLETE\",\r\n",
      "            \"DisableRollback\": false,\r\n",
      "            \"NotificationARNs\": [],\r\n",
      "            \"Capabilities\": [\r\n",
      "                \"CAPABILITY_IAM\"\r\n",
      "            ],\r\n",
      "            \"Outputs\": [\r\n",
      "                {\r\n",
      "                    \"OutputKey\": \"HelloWorldFunctionIamRole\",\r\n",
      "                    \"OutputValue\": \"arn:aws:iam::649037252677:role/serverless-hello-HelloWorldFunctionRole-3FJDN44R67HG\",\r\n",
      "                    \"Description\": \"Implicit IAM Role created for Hello World function\"\r\n",
      "                },\r\n",
      "                {\r\n",
      "                    \"OutputKey\": \"HelloWorldApi\",\r\n",
      "                    \"OutputValue\": \"https://ud6tcavio8.execute-api.us-west-2.amazonaws.com/Prod/hello/\",\r\n",
      "                    \"Description\": \"API Gateway endpoint URL for Prod stage for Hello World function\"\r\n",
      "                },\r\n",
      "                {\r\n",
      "                    \"OutputKey\": \"HelloWorldFunction\",\r\n",
      "                    \"OutputValue\": \"arn:aws:lambda:us-west-2:649037252677:function:serverless-hello-HelloWorldFunction-VNADBZQ4RALR\",\r\n",
      "                    \"Description\": \"Hello World Lambda Function ARN\"\r\n",
      "                }\r\n",
      "            ],\r\n",
      "            \"Tags\": [],\r\n",
      "            \"EnableTerminationProtection\": false,\r\n",
      "            \"DriftInformation\": {\r\n",
      "                \"StackDriftStatus\": \"NOT_CHECKED\"\r\n",
      "            }\r\n",
      "        }\r\n",
      "    ]\r\n",
      "}\r\n"
     ]
    }
   ],
   "source": [
    "# api_endpoint = !aws cloudformation describe-stacks --stack-name $stack_name --region $region | python -c 'import json,sys;obj=json.load(sys.stdin);print obj[\"Stacks\"][0][\"Outputs\"][1][\"OutputValue\"];'\n",
    "# print(api_endpoint[0])\n",
    "\n",
    "!aws cloudformation describe-stacks --stack-name $stack_name --region $region"
   ]
  },
  {
   "cell_type": "markdown",
   "metadata": {},
   "source": [
    "After we create and deploy the project we will install httpie to test the endpoint to exercise the default method."
   ]
  },
  {
   "cell_type": "code",
   "execution_count": 84,
   "metadata": {},
   "outputs": [
    {
     "name": "stdout",
     "output_type": "stream",
     "text": [
      "Requirement already satisfied: httpie in /home/ec2-user/anaconda3/envs/python3/lib/python3.6/site-packages (1.0.2)\n",
      "Requirement already satisfied: requests>=2.18.4 in /home/ec2-user/anaconda3/envs/python3/lib/python3.6/site-packages (from httpie) (2.20.1)\n",
      "Requirement already satisfied: Pygments>=2.1.3 in /home/ec2-user/anaconda3/envs/python3/lib/python3.6/site-packages (from httpie) (2.2.0)\n",
      "Requirement already satisfied: urllib3<1.25,>=1.21.1 in /home/ec2-user/anaconda3/envs/python3/lib/python3.6/site-packages (from requests>=2.18.4->httpie) (1.22)\n",
      "Requirement already satisfied: certifi>=2017.4.17 in /home/ec2-user/anaconda3/envs/python3/lib/python3.6/site-packages (from requests>=2.18.4->httpie) (2018.8.24)\n",
      "Requirement already satisfied: chardet<3.1.0,>=3.0.2 in /home/ec2-user/anaconda3/envs/python3/lib/python3.6/site-packages (from requests>=2.18.4->httpie) (3.0.4)\n",
      "Requirement already satisfied: idna<2.8,>=2.5 in /home/ec2-user/anaconda3/envs/python3/lib/python3.6/site-packages (from requests>=2.18.4->httpie) (2.6)\n",
      "\u001b[33mYou are using pip version 10.0.1, however version 18.1 is available.\n",
      "You should consider upgrading via the 'pip install --upgrade pip' command.\u001b[0m\n",
      "\u001b[34mHTTP\u001b[39;49;00m/\u001b[34m1.1\u001b[39;49;00m \u001b[34m200\u001b[39;49;00m \u001b[36mOK\u001b[39;49;00m\n",
      "\u001b[36mConnection\u001b[39;49;00m: keep-alive\n",
      "\u001b[36mContent-Length\u001b[39;49;00m: 54\n",
      "\u001b[36mContent-Type\u001b[39;49;00m: application/json\n",
      "\u001b[36mDate\u001b[39;49;00m: Mon, 31 Dec 2018 03:56:25 GMT\n",
      "\u001b[36mVia\u001b[39;49;00m: 1.1 5ecfd97124a5b15f1245ab731d34efe7.cloudfront.net (CloudFront)\n",
      "\u001b[36mX-Amz-Cf-Id\u001b[39;49;00m: yt-uhIb01LanCQjCH6hzvDlMtW70ELSVBrru-gNc0Ih089MO8HwhTA==\n",
      "\u001b[36mX-Amzn-Trace-Id\u001b[39;49;00m: Root=1-5c299368-804f0e98fa9f6cc0436d5a30;Sampled=0\n",
      "\u001b[36mX-Cache\u001b[39;49;00m: Miss from cloudfront\n",
      "\u001b[36mx-amz-apigw-id\u001b[39;49;00m: SwP4YGpyPHcF7Fw=\n",
      "\u001b[36mx-amzn-RequestId\u001b[39;49;00m: 0af20009-0cb0-11e9-a381-af13594a8ac7\n",
      "\n",
      "{\n",
      "    \u001b[34;01m\"location\"\u001b[39;49;00m: \u001b[33m\"54.202.67.39\"\u001b[39;49;00m,\n",
      "    \u001b[34;01m\"message\"\u001b[39;49;00m: \u001b[33m\"hello world\"\u001b[39;49;00m\n",
      "}\n",
      "\n"
     ]
    }
   ],
   "source": [
    "!pip install httpie\n",
    "!http https://ud6tcavio8.execute-api.us-west-2.amazonaws.com/Prod/hello/"
   ]
  },
  {
   "cell_type": "markdown",
   "metadata": {},
   "source": [
    "### We will now make changes to the hello world project and create a todo application that leverages Cognito for user authentication.\n",
    "\n",
    "We will start with creating the CRUD methods for the todo app to create, read, update, delete, and list the todos. We will also be using a DynamoDB table to store the todos. \n",
    "\n",
    "In your project copy the todos folder over to your project and update the serverless.yml file with the new API endpoints.\n",
    "\n",
    "```\n",
    "create:\n",
    "    handler: todos/create.create\n",
    "    events:\n",
    "      - http:\n",
    "          path: todos\n",
    "          method: post\n",
    "          cors: true\n",
    "\n",
    "  list:\n",
    "    handler: todos/list.list\n",
    "    events:\n",
    "      - http:\n",
    "          path: todos\n",
    "          method: get\n",
    "          cors: true\n",
    "\n",
    "  get:\n",
    "    handler: todos/get.get\n",
    "    events:\n",
    "      - http:\n",
    "          path: todos/{id}\n",
    "          method: get\n",
    "          cors: true\n",
    "\n",
    "  update:\n",
    "    handler: todos/update.update\n",
    "    events:\n",
    "      - http:\n",
    "          path: todos/{id}\n",
    "          method: put\n",
    "          cors: true\n",
    "\n",
    "  delete:\n",
    "    handler: todos/delete.delete\n",
    "    events:\n",
    "      - http:\n",
    "          path: todos/{id}\n",
    "          method: delete\n",
    "          cors: true\n",
    "```\n",
    "\n",
    "Once you have copied the todo Lambda functions into your project and updated the serverless.yml file we are ready to redeploy the project with the updated methods and test them out."
   ]
  },
  {
   "cell_type": "code",
   "execution_count": null,
   "metadata": {},
   "outputs": [],
   "source": [
    "!sls deploy -v"
   ]
  },
  {
   "cell_type": "markdown",
   "metadata": {},
   "source": [
    "### Create a todo"
   ]
  },
  {
   "cell_type": "code",
   "execution_count": null,
   "metadata": {},
   "outputs": [],
   "source": [
    "echo '{ \"text\": \"My First Todo\" }' | http POST https://{api-url}/dev/todos\n",
    "http https://{api-url}/dev/todos"
   ]
  },
  {
   "cell_type": "markdown",
   "metadata": {},
   "source": [
    "### List the todos available"
   ]
  },
  {
   "cell_type": "code",
   "execution_count": null,
   "metadata": {},
   "outputs": [],
   "source": [
    "!http POST https://{api-url}/dev/todos"
   ]
  },
  {
   "cell_type": "markdown",
   "metadata": {},
   "source": [
    "Now you can see how easy it is to create a microservice using Lambda but what if we wanted to only allow authenticated users to have the ability to create todos? We can create a Cognito user pool and use it as an authorizer to the API. The deployment should have already created the Cognito user pool, so we will use that and hook it up to the create method of the service. \n",
    "\n",
    "Change the serverless.yml file to add the authorizer like below.\n",
    "\n",
    "```\n",
    "    authorizer:\n",
    "        type: COGNITO_USER_POOLS\n",
    "        authorizerId:\n",
    "            Ref: TodoApiGatewayAuthorizer\n",
    "```\n",
    "\n",
    "Let's redeploy the service and try and add a todo"
   ]
  },
  {
   "cell_type": "code",
   "execution_count": null,
   "metadata": {},
   "outputs": [],
   "source": [
    "!sls deploy -v"
   ]
  },
  {
   "cell_type": "code",
   "execution_count": null,
   "metadata": {},
   "outputs": [],
   "source": [
    "!echo '{ \"text\": \"My First Todo\" }' | http POST https://{api-url}/dev/todos"
   ]
  },
  {
   "cell_type": "markdown",
   "metadata": {},
   "source": [
    "This should have returned an HTTP/1.1 401 Unauthorized because you did not send the appropriate Authorization header on the call. We will simulate a user logging into the application and passing the bearer token in the headers of the request. Running the 3 methods below will simulate creating a user, confirming the user, and generating the appropriate auth for the user to be able to create the todo. Grab the IdToken generated and add it to the headers like the command below.\n",
    "\n",
    "### Create user in Cognito"
   ]
  },
  {
   "cell_type": "code",
   "execution_count": null,
   "metadata": {},
   "outputs": [],
   "source": [
    "!aws cognito-idp sign-up --region {your-aws-region} --client-id {cognito-client-id} --username admin@example.com --password {password}"
   ]
  },
  {
   "cell_type": "markdown",
   "metadata": {},
   "source": [
    "### Confirm the sign up of the user"
   ]
  },
  {
   "cell_type": "code",
   "execution_count": null,
   "metadata": {},
   "outputs": [],
   "source": [
    "!aws cognito-idp admin-confirm-sign-up --region {your-aws-region} --user-pool-id {cognito-user-pool} --username admin@example.com"
   ]
  },
  {
   "cell_type": "markdown",
   "metadata": {},
   "source": [
    "### Initiate the authentication to generate the token"
   ]
  },
  {
   "cell_type": "code",
   "execution_count": null,
   "metadata": {},
   "outputs": [],
   "source": [
    "!aws cognito-idp admin-initiate-auth --region {your-aws-region} --cli-input-json file://auth.json"
   ]
  },
  {
   "cell_type": "code",
   "execution_count": null,
   "metadata": {},
   "outputs": [],
   "source": [
    "!echo '{ \"text\": \"My Authenticated Todo\" }' | http POST https://{api-url}/dev/todos Authorization:\"Bearer {your-idtoken}\""
   ]
  },
  {
   "cell_type": "markdown",
   "metadata": {},
   "source": [
    "Now you should have created a new todo after the authorizer approves the token.\n",
    "\n",
    "### Register a user\n",
    "\n",
    "> aws cognito-idp sign-up --region {your-aws-region} --client-id {your-client-id} --username admin@example.com --password {password}\n",
    "\n",
    "### Confirm user registration\n",
    "\n",
    "> aws cognito-idp admin-confirm-sign-up --region {your-aws-region} --user-pool-id {your-user-pool-id} --username admin@example.com\n",
    "\n",
    "### Authenticate (get tokens)\n",
    "\n",
    "> aws cognito-idp admin-initiate-auth --region {your-aws-region} --cli-input-json file://auth.json\n",
    "\n",
    "### Where auth.json is:\n",
    "\n",
    ">{\n",
    "    \"UserPoolId\": \"{your-user-pool-id}\",\n",
    "    \"ClientId\": \"{your-client-id}\",\n",
    "    \"AuthFlow\": \"ADMIN_NO_SRP_AUTH\",\n",
    "    \"AuthParameters\": {\n",
    "        \"USERNAME\": \"admin@example.com\",\n",
    "        \"PASSWORD\": \"{password}\"\n",
    "    }\n",
    "}\n",
    "\n",
    "### You should get a response like this if everything is set up correctly:\n",
    "\n",
    ">{\n",
    "    \"AuthenticationResult\": {\n",
    "        \"ExpiresIn\": 3600,\n",
    "        \"IdToken\": \"{your-idtoken}\",\n",
    "        \"RefreshToken\": \"{your-refresh-token}\",\n",
    "        \"TokenType\": \"Bearer\",\n",
    "        \"AccessToken\": \"{your-access-token}\"\n",
    "    },\n",
    "    \"ChallengeParameters\": {}\n",
    "}"
   ]
  },
  {
   "cell_type": "markdown",
   "metadata": {},
   "source": [
    "## Cleanup"
   ]
  },
  {
   "cell_type": "code",
   "execution_count": 86,
   "metadata": {},
   "outputs": [],
   "source": [
    "!aws cloudformation delete-stack --stack-name $stack_name"
   ]
  },
  {
   "cell_type": "code",
   "execution_count": null,
   "metadata": {},
   "outputs": [],
   "source": []
  }
 ],
 "metadata": {
  "kernelspec": {
   "display_name": "conda_python3",
   "language": "python",
   "name": "conda_python3"
  },
  "language_info": {
   "codemirror_mode": {
    "name": "ipython",
    "version": 3
   },
   "file_extension": ".py",
   "mimetype": "text/x-python",
   "name": "python",
   "nbconvert_exporter": "python",
   "pygments_lexer": "ipython3",
   "version": "3.6.5"
  }
 },
 "nbformat": 4,
 "nbformat_minor": 2
}
