{
 "cells": [
  {
   "cell_type": "markdown",
   "metadata": {},
   "source": [
    "## Creating the AWS Serverless Application Model (SAM) application\n",
    "\n",
    "### Verify pre-requisites for AWS SAM\n",
    "SAM requires python 2.7 or 3.6 and pip to be installed to continue."
   ]
  },
  {
   "cell_type": "code",
   "execution_count": null,
   "metadata": {},
   "outputs": [],
   "source": [
    "import os\n",
    "import sagemaker\n",
    "from sagemaker import get_execution_role\n",
    "# import project_path\n",
    "# from lib import utils\n",
    "import boto3\n",
    "\n",
    "role = get_execution_role()\n",
    "\n",
    "# use the region-specific sample data bucket\n",
    "region = boto3.Session().region_name\n",
    "bucket = '{{s3_workshop_bucket}}'\n",
    "stack_name = \"serverless-hello\""
   ]
  },
  {
   "cell_type": "code",
   "execution_count": null,
   "metadata": {},
   "outputs": [],
   "source": [
    "!python --version\n",
    "!pip --version"
   ]
  },
  {
   "cell_type": "markdown",
   "metadata": {},
   "source": [
    "### Installing AWS SAM"
   ]
  },
  {
   "cell_type": "code",
   "execution_count": null,
   "metadata": {},
   "outputs": [],
   "source": [
    "!pip install --user aws-sam-cli"
   ]
  },
  {
   "cell_type": "markdown",
   "metadata": {},
   "source": [
    "### Verify the latest version of SAM is installed "
   ]
  },
  {
   "cell_type": "code",
   "execution_count": null,
   "metadata": {},
   "outputs": [],
   "source": [
    "!python -m site --user-base"
   ]
  },
  {
   "cell_type": "code",
   "execution_count": null,
   "metadata": {},
   "outputs": [],
   "source": [
    "%%bash\n",
    "export PATH=$PATH:/home/ec2-user/.local/bin\n",
    "sam --version"
   ]
  },
  {
   "cell_type": "code",
   "execution_count": null,
   "metadata": {},
   "outputs": [],
   "source": [
    "%bash\n",
    "/home/ec2-user/.local/bin/sam init -r python3.6 -n serverless-todo"
   ]
  },
  {
   "cell_type": "code",
   "execution_count": null,
   "metadata": {},
   "outputs": [],
   "source": [
    "!ls serverless-todo/"
   ]
  },
  {
   "cell_type": "code",
   "execution_count": null,
   "metadata": {},
   "outputs": [],
   "source": [
    "!cat serverless-todo/template.yaml"
   ]
  },
  {
   "cell_type": "code",
   "execution_count": null,
   "metadata": {},
   "outputs": [],
   "source": [
    "cd serverless-todo "
   ]
  },
  {
   "cell_type": "code",
   "execution_count": null,
   "metadata": {},
   "outputs": [],
   "source": [
    "!pip install -r hello_world/requirements.txt -t hello_world/"
   ]
  },
  {
   "cell_type": "code",
   "execution_count": null,
   "metadata": {},
   "outputs": [],
   "source": [
    "!ls hello_world"
   ]
  },
  {
   "cell_type": "code",
   "execution_count": null,
   "metadata": {},
   "outputs": [],
   "source": [
    "!pygmentize hello_world/app.py"
   ]
  },
  {
   "cell_type": "code",
   "execution_count": null,
   "metadata": {},
   "outputs": [],
   "source": [
    "!aws cloudformation validate-template --template-body file://template.yaml"
   ]
  },
  {
   "cell_type": "code",
   "execution_count": null,
   "metadata": {},
   "outputs": [],
   "source": [
    "!aws cloudformation package \\\n",
    "    --template-file template.yaml \\\n",
    "    --output-template-file sam-template.yaml \\\n",
    "    --s3-bucket analytics-serverless-west \\\n",
    "    --s3-prefix serverless"
   ]
  },
  {
   "cell_type": "code",
   "execution_count": null,
   "metadata": {},
   "outputs": [],
   "source": [
    "!aws cloudformation deploy \\\n",
    "    --template-file sam-template.yaml \\\n",
    "    --stack-name serverless-hello \\\n",
    "    --capabilities CAPABILITY_IAM"
   ]
  },
  {
   "cell_type": "code",
   "execution_count": null,
   "metadata": {},
   "outputs": [],
   "source": [
    "# api_endpoint = !aws cloudformation describe-stacks --stack-name $stack_name --region $region | python -c 'import json,sys;obj=json.load(sys.stdin);print obj[\"Stacks\"][0][\"Outputs\"][1][\"OutputValue\"];'\n",
    "# print(api_endpoint[0])\n",
    "\n",
    "!aws cloudformation describe-stacks --stack-name $stack_name --region $region"
   ]
  },
  {
   "cell_type": "markdown",
   "metadata": {},
   "source": [
    "After we create and deploy the project we will install httpie to test the endpoint to exercise the default method."
   ]
  },
  {
   "cell_type": "code",
   "execution_count": null,
   "metadata": {},
   "outputs": [],
   "source": [
    "!pip install httpie\n",
    "!http https://ud6tcavio8.execute-api.us-west-2.amazonaws.com/Prod/hello/"
   ]
  },
  {
   "cell_type": "markdown",
   "metadata": {},
   "source": [
    "### We will now make changes to the hello world project and create a todo application that leverages Cognito for user authentication.\n",
    "\n",
    "We will start with creating the CRUD methods for the todo app to create, read, update, delete, and list the todos. We will also be using a DynamoDB table to store the todos. \n",
    "\n",
    "In your project copy the todos folder over to your project and update the serverless.yml file with the new API endpoints.\n",
    "\n",
    "```\n",
    "create:\n",
    "    handler: todos/create.create\n",
    "    events:\n",
    "      - http:\n",
    "          path: todos\n",
    "          method: post\n",
    "          cors: true\n",
    "\n",
    "  list:\n",
    "    handler: todos/list.list\n",
    "    events:\n",
    "      - http:\n",
    "          path: todos\n",
    "          method: get\n",
    "          cors: true\n",
    "\n",
    "  get:\n",
    "    handler: todos/get.get\n",
    "    events:\n",
    "      - http:\n",
    "          path: todos/{id}\n",
    "          method: get\n",
    "          cors: true\n",
    "\n",
    "  update:\n",
    "    handler: todos/update.update\n",
    "    events:\n",
    "      - http:\n",
    "          path: todos/{id}\n",
    "          method: put\n",
    "          cors: true\n",
    "\n",
    "  delete:\n",
    "    handler: todos/delete.delete\n",
    "    events:\n",
    "      - http:\n",
    "          path: todos/{id}\n",
    "          method: delete\n",
    "          cors: true\n",
    "```\n",
    "\n",
    "Once you have copied the todo Lambda functions into your project and updated the serverless.yml file we are ready to redeploy the project with the updated methods and test them out."
   ]
  },
  {
   "cell_type": "code",
   "execution_count": null,
   "metadata": {},
   "outputs": [],
   "source": [
    "!sls deploy -v"
   ]
  },
  {
   "cell_type": "markdown",
   "metadata": {},
   "source": [
    "### Create a todo"
   ]
  },
  {
   "cell_type": "code",
   "execution_count": null,
   "metadata": {},
   "outputs": [],
   "source": [
    "echo '{ \"text\": \"My First Todo\" }' | http POST https://{api-url}/dev/todos\n",
    "http https://{api-url}/dev/todos"
   ]
  },
  {
   "cell_type": "markdown",
   "metadata": {},
   "source": [
    "### List the todos available"
   ]
  },
  {
   "cell_type": "code",
   "execution_count": null,
   "metadata": {},
   "outputs": [],
   "source": [
    "!http POST https://{api-url}/dev/todos"
   ]
  },
  {
   "cell_type": "markdown",
   "metadata": {},
   "source": [
    "Now you can see how easy it is to create a microservice using Lambda but what if we wanted to only allow authenticated users to have the ability to create todos? We can create a Cognito user pool and use it as an authorizer to the API. The deployment should have already created the Cognito user pool, so we will use that and hook it up to the create method of the service. \n",
    "\n",
    "Change the serverless.yml file to add the authorizer like below.\n",
    "\n",
    "```\n",
    "    authorizer:\n",
    "        type: COGNITO_USER_POOLS\n",
    "        authorizerId:\n",
    "            Ref: TodoApiGatewayAuthorizer\n",
    "```\n",
    "\n",
    "Let's redeploy the service and try and add a todo"
   ]
  },
  {
   "cell_type": "code",
   "execution_count": null,
   "metadata": {},
   "outputs": [],
   "source": [
    "!sls deploy -v"
   ]
  },
  {
   "cell_type": "code",
   "execution_count": null,
   "metadata": {},
   "outputs": [],
   "source": [
    "!echo '{ \"text\": \"My First Todo\" }' | http POST https://{api-url}/dev/todos"
   ]
  },
  {
   "cell_type": "markdown",
   "metadata": {},
   "source": [
    "This should have returned an HTTP/1.1 401 Unauthorized because you did not send the appropriate Authorization header on the call. We will simulate a user logging into the application and passing the bearer token in the headers of the request. Running the 3 methods below will simulate creating a user, confirming the user, and generating the appropriate auth for the user to be able to create the todo. Grab the IdToken generated and add it to the headers like the command below.\n",
    "\n",
    "### Create user in Cognito"
   ]
  },
  {
   "cell_type": "code",
   "execution_count": null,
   "metadata": {},
   "outputs": [],
   "source": [
    "!aws cognito-idp sign-up --region {your-aws-region} --client-id {cognito-client-id} --username admin@example.com --password {password}"
   ]
  },
  {
   "cell_type": "markdown",
   "metadata": {},
   "source": [
    "### Confirm the sign up of the user"
   ]
  },
  {
   "cell_type": "code",
   "execution_count": null,
   "metadata": {},
   "outputs": [],
   "source": [
    "!aws cognito-idp admin-confirm-sign-up --region {your-aws-region} --user-pool-id {cognito-user-pool} --username admin@example.com"
   ]
  },
  {
   "cell_type": "markdown",
   "metadata": {},
   "source": [
    "### Initiate the authentication to generate the token"
   ]
  },
  {
   "cell_type": "code",
   "execution_count": null,
   "metadata": {},
   "outputs": [],
   "source": [
    "!aws cognito-idp admin-initiate-auth --region {your-aws-region} --cli-input-json file://auth.json"
   ]
  },
  {
   "cell_type": "code",
   "execution_count": null,
   "metadata": {},
   "outputs": [],
   "source": [
    "!echo '{ \"text\": \"My Authenticated Todo\" }' | http POST https://{api-url}/dev/todos Authorization:\"Bearer {your-idtoken}\""
   ]
  },
  {
   "cell_type": "markdown",
   "metadata": {},
   "source": [
    "Now you should have created a new todo after the authorizer approves the token.\n",
    "\n",
    "### Register a user\n",
    "\n",
    "> aws cognito-idp sign-up --region {your-aws-region} --client-id {your-client-id} --username admin@example.com --password {password}\n",
    "\n",
    "### Confirm user registration\n",
    "\n",
    "> aws cognito-idp admin-confirm-sign-up --region {your-aws-region} --user-pool-id {your-user-pool-id} --username admin@example.com\n",
    "\n",
    "### Authenticate (get tokens)\n",
    "\n",
    "> aws cognito-idp admin-initiate-auth --region {your-aws-region} --cli-input-json file://auth.json\n",
    "\n",
    "### Where auth.json is:\n",
    "\n",
    ">{\n",
    "    \"UserPoolId\": \"{your-user-pool-id}\",\n",
    "    \"ClientId\": \"{your-client-id}\",\n",
    "    \"AuthFlow\": \"ADMIN_NO_SRP_AUTH\",\n",
    "    \"AuthParameters\": {\n",
    "        \"USERNAME\": \"admin@example.com\",\n",
    "        \"PASSWORD\": \"{password}\"\n",
    "    }\n",
    "}\n",
    "\n",
    "### You should get a response like this if everything is set up correctly:\n",
    "\n",
    ">{\n",
    "    \"AuthenticationResult\": {\n",
    "        \"ExpiresIn\": 3600,\n",
    "        \"IdToken\": \"{your-idtoken}\",\n",
    "        \"RefreshToken\": \"{your-refresh-token}\",\n",
    "        \"TokenType\": \"Bearer\",\n",
    "        \"AccessToken\": \"{your-access-token}\"\n",
    "    },\n",
    "    \"ChallengeParameters\": {}\n",
    "}"
   ]
  },
  {
   "cell_type": "markdown",
   "metadata": {},
   "source": [
    "## Cleanup"
   ]
  },
  {
   "cell_type": "code",
   "execution_count": null,
   "metadata": {},
   "outputs": [],
   "source": [
    "!aws cloudformation delete-stack --stack-name $stack_name"
   ]
  },
  {
   "cell_type": "code",
   "execution_count": null,
   "metadata": {},
   "outputs": [],
   "source": []
  }
 ],
 "metadata": {
  "kernelspec": {
   "display_name": "conda_python3",
   "language": "python",
   "name": "conda_python3"
  },
  "language_info": {
   "codemirror_mode": {
    "name": "ipython",
    "version": 3
   },
   "file_extension": ".py",
   "mimetype": "text/x-python",
   "name": "python",
   "nbconvert_exporter": "python",
   "pygments_lexer": "ipython3",
   "version": "3.6.5"
  }
 },
 "nbformat": 4,
 "nbformat_minor": 2
}
